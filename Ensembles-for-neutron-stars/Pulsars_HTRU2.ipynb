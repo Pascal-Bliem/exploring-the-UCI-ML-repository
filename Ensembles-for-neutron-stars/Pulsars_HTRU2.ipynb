{
 "cells": [
  {
   "cell_type": "markdown",
   "metadata": {},
   "source": [
    "# Ensemble methods for Pulsar Neutron Star Classification\n",
    "\n",
    "As a former scientist I love pretty much everything in physics and astronomy has always interested me due to the extreme conditions being studied. Some of the most fascinating objects  found in space are Pulsars, a special kind of neutron stars. We can read in the description accompanying this data set: \n",
    "\n",
    "*\"Pulsars are a rare type of Neutron star that produce radio emission detectable here on Earth. \\[...\\] As pulsars rotate, their emission beam sweeps across the sky, and when this crosses our line of sight, produces a detectable pattern of broadband radio emission. As pulsars\n",
    "rotate rapidly, this pattern repeats periodically. Thus pulsar search involves looking for periodic radio signals with large radio telescopes.\"* \n",
    "\n",
    "This data set contains events of radio signal detection representing Pulsar candidates, which were recorded during the [High Time Resolution Universe Survey 1](https://academic.oup.com/mnras/article/409/2/619/1037409). It was contributed to the [UCI Machine Learning Repository](http://archive.ics.uci.edu/ml/datasets/HTRU2#) by Robert Lyon from the University of Manchester's School of Physics and Astronomy."
   ]
  },
  {
   "cell_type": "markdown",
   "metadata": {},
   "source": [
    "## Frame the Problem\n",
    "\n",
    "To detect the Pulsars, the signal is recorded over many rotations of the pulsar and the integrated pulse profile is used along with the DM-SNR curve (dispersion measure - signal to noise ratio curve, see [here](http://www.scienceguyrob.com/wp-content/uploads/2016/12/WhyArePulsarsHardToFind_Lyon_2016.pdf)).\n",
    "However, Pulsars are very rare and many spurious events caused by radio frequency interference (RFI) get detected, which makes it hard to find legitimate signals. It is very time-intensive and costly to have every record checked by human experts, therefore, machine learning could be of great aid to Pulsar detection.\n",
    "\n",
    "We have a two-class classification problem at hand (Pulsar or not Pulsar) and we are most likely dealing with a high class imbalance because Pulsars are very rare. Because of this imbalance, we should not choose accuracy as a metric to evaluate the performance of our model. It is probably not a catastrophe if human experts will still find some false positives which they have to filter out manually, but we'd be really sad if me miss a rare Pulsar (false negative). Hence, we should optimize for recall to minimize the false negative ratio."
   ]
  },
  {
   "cell_type": "code",
   "execution_count": 1,
   "metadata": {},
   "outputs": [],
   "source": [
    "# import libraries \n",
    "import numpy as np # numerical computation\n",
    "import pandas as pd # data handling\n",
    "import warnings\n",
    "warnings.filterwarnings('ignore')\n",
    "# visulalization\n",
    "import matplotlib.pyplot as plt \n",
    "import seaborn as sns \n",
    "sns.set_style(\"darkgrid\")\n",
    "%matplotlib notebook"
   ]
  },
  {
   "cell_type": "markdown",
   "metadata": {},
   "source": [
    "## Data preparation\n",
    "Let's import the data into data frame hand have a look."
   ]
  },
  {
   "cell_type": "code",
   "execution_count": 2,
   "metadata": {},
   "outputs": [
    {
     "data": {
      "text/html": [
       "<div>\n",
       "<style scoped>\n",
       "    .dataframe tbody tr th:only-of-type {\n",
       "        vertical-align: middle;\n",
       "    }\n",
       "\n",
       "    .dataframe tbody tr th {\n",
       "        vertical-align: top;\n",
       "    }\n",
       "\n",
       "    .dataframe thead th {\n",
       "        text-align: right;\n",
       "    }\n",
       "</style>\n",
       "<table border=\"1\" class=\"dataframe\">\n",
       "  <thead>\n",
       "    <tr style=\"text-align: right;\">\n",
       "      <th></th>\n",
       "      <th>ip_mean</th>\n",
       "      <th>ip_std</th>\n",
       "      <th>ip_kurt</th>\n",
       "      <th>ip_skew</th>\n",
       "      <th>dmsnr_mean</th>\n",
       "      <th>dmsnr_std</th>\n",
       "      <th>dmsnr_kurt</th>\n",
       "      <th>dmsnr_skew</th>\n",
       "      <th>label</th>\n",
       "    </tr>\n",
       "  </thead>\n",
       "  <tbody>\n",
       "    <tr>\n",
       "      <th>0</th>\n",
       "      <td>140.562500</td>\n",
       "      <td>55.683782</td>\n",
       "      <td>-0.234571</td>\n",
       "      <td>-0.699648</td>\n",
       "      <td>3.199833</td>\n",
       "      <td>19.110426</td>\n",
       "      <td>7.975532</td>\n",
       "      <td>74.242225</td>\n",
       "      <td>0</td>\n",
       "    </tr>\n",
       "    <tr>\n",
       "      <th>1</th>\n",
       "      <td>102.507812</td>\n",
       "      <td>58.882430</td>\n",
       "      <td>0.465318</td>\n",
       "      <td>-0.515088</td>\n",
       "      <td>1.677258</td>\n",
       "      <td>14.860146</td>\n",
       "      <td>10.576487</td>\n",
       "      <td>127.393580</td>\n",
       "      <td>0</td>\n",
       "    </tr>\n",
       "    <tr>\n",
       "      <th>2</th>\n",
       "      <td>103.015625</td>\n",
       "      <td>39.341649</td>\n",
       "      <td>0.323328</td>\n",
       "      <td>1.051164</td>\n",
       "      <td>3.121237</td>\n",
       "      <td>21.744669</td>\n",
       "      <td>7.735822</td>\n",
       "      <td>63.171909</td>\n",
       "      <td>0</td>\n",
       "    </tr>\n",
       "    <tr>\n",
       "      <th>3</th>\n",
       "      <td>136.750000</td>\n",
       "      <td>57.178449</td>\n",
       "      <td>-0.068415</td>\n",
       "      <td>-0.636238</td>\n",
       "      <td>3.642977</td>\n",
       "      <td>20.959280</td>\n",
       "      <td>6.896499</td>\n",
       "      <td>53.593661</td>\n",
       "      <td>0</td>\n",
       "    </tr>\n",
       "    <tr>\n",
       "      <th>4</th>\n",
       "      <td>88.726562</td>\n",
       "      <td>40.672225</td>\n",
       "      <td>0.600866</td>\n",
       "      <td>1.123492</td>\n",
       "      <td>1.178930</td>\n",
       "      <td>11.468720</td>\n",
       "      <td>14.269573</td>\n",
       "      <td>252.567306</td>\n",
       "      <td>0</td>\n",
       "    </tr>\n",
       "  </tbody>\n",
       "</table>\n",
       "</div>"
      ],
      "text/plain": [
       "      ip_mean     ip_std   ip_kurt   ip_skew  dmsnr_mean  dmsnr_std  \\\n",
       "0  140.562500  55.683782 -0.234571 -0.699648    3.199833  19.110426   \n",
       "1  102.507812  58.882430  0.465318 -0.515088    1.677258  14.860146   \n",
       "2  103.015625  39.341649  0.323328  1.051164    3.121237  21.744669   \n",
       "3  136.750000  57.178449 -0.068415 -0.636238    3.642977  20.959280   \n",
       "4   88.726562  40.672225  0.600866  1.123492    1.178930  11.468720   \n",
       "\n",
       "   dmsnr_kurt  dmsnr_skew  label  \n",
       "0    7.975532   74.242225      0  \n",
       "1   10.576487  127.393580      0  \n",
       "2    7.735822   63.171909      0  \n",
       "3    6.896499   53.593661      0  \n",
       "4   14.269573  252.567306      0  "
      ]
     },
     "execution_count": 2,
     "metadata": {},
     "output_type": "execute_result"
    }
   ],
   "source": [
    "# load data and show first 5 rows\n",
    "# the columns are:\n",
    "# 1. Mean of the integrated profile.\n",
    "# 2. Standard deviation of the integrated profile.\n",
    "# 3. Excess kurtosis of the integrated profile.\n",
    "# 4. Skewness of the integrated profile.\n",
    "# 5. Mean of the DM-SNR curve.\n",
    "# 6. Standard deviation of the DM-SNR curve.\n",
    "# 7. Excess kurtosis of the DM-SNR curve.\n",
    "# 8. Skewness of the DM-SNR curve.\n",
    "# 9. Class (1 = Pulsar, 0 = no Pulsar)\n",
    "\n",
    "pulsar = pd.read_csv(\"HTRU_2.csv\",header=None,names=[\"ip_mean\",\"ip_std\",\"ip_kurt\",\"ip_skew\",\"dmsnr_mean\",\"dmsnr_std\",\"dmsnr_kurt\",\"dmsnr_skew\",\"label\"])\n",
    "pulsar.head()"
   ]
  },
  {
   "cell_type": "code",
   "execution_count": 3,
   "metadata": {},
   "outputs": [
    {
     "name": "stdout",
     "output_type": "stream",
     "text": [
      "<class 'pandas.core.frame.DataFrame'>\n",
      "RangeIndex: 17898 entries, 0 to 17897\n",
      "Data columns (total 9 columns):\n",
      "ip_mean       17898 non-null float64\n",
      "ip_std        17898 non-null float64\n",
      "ip_kurt       17898 non-null float64\n",
      "ip_skew       17898 non-null float64\n",
      "dmsnr_mean    17898 non-null float64\n",
      "dmsnr_std     17898 non-null float64\n",
      "dmsnr_kurt    17898 non-null float64\n",
      "dmsnr_skew    17898 non-null float64\n",
      "label         17898 non-null int64\n",
      "dtypes: float64(8), int64(1)\n",
      "memory usage: 1.2 MB\n"
     ]
    }
   ],
   "source": [
    "# print info\n",
    "pulsar.info()"
   ]
  },
  {
   "cell_type": "code",
   "execution_count": 4,
   "metadata": {},
   "outputs": [
    {
     "data": {
      "text/html": [
       "<div>\n",
       "<style scoped>\n",
       "    .dataframe tbody tr th:only-of-type {\n",
       "        vertical-align: middle;\n",
       "    }\n",
       "\n",
       "    .dataframe tbody tr th {\n",
       "        vertical-align: top;\n",
       "    }\n",
       "\n",
       "    .dataframe thead th {\n",
       "        text-align: right;\n",
       "    }\n",
       "</style>\n",
       "<table border=\"1\" class=\"dataframe\">\n",
       "  <thead>\n",
       "    <tr style=\"text-align: right;\">\n",
       "      <th></th>\n",
       "      <th>ip_mean</th>\n",
       "      <th>ip_std</th>\n",
       "      <th>ip_kurt</th>\n",
       "      <th>ip_skew</th>\n",
       "      <th>dmsnr_mean</th>\n",
       "      <th>dmsnr_std</th>\n",
       "      <th>dmsnr_kurt</th>\n",
       "      <th>dmsnr_skew</th>\n",
       "      <th>label</th>\n",
       "    </tr>\n",
       "  </thead>\n",
       "  <tbody>\n",
       "    <tr>\n",
       "      <th>count</th>\n",
       "      <td>17898.000000</td>\n",
       "      <td>17898.000000</td>\n",
       "      <td>17898.000000</td>\n",
       "      <td>17898.000000</td>\n",
       "      <td>17898.000000</td>\n",
       "      <td>17898.000000</td>\n",
       "      <td>17898.000000</td>\n",
       "      <td>17898.000000</td>\n",
       "      <td>17898.000000</td>\n",
       "    </tr>\n",
       "    <tr>\n",
       "      <th>mean</th>\n",
       "      <td>111.079968</td>\n",
       "      <td>46.549532</td>\n",
       "      <td>0.477857</td>\n",
       "      <td>1.770279</td>\n",
       "      <td>12.614400</td>\n",
       "      <td>26.326515</td>\n",
       "      <td>8.303556</td>\n",
       "      <td>104.857709</td>\n",
       "      <td>0.091574</td>\n",
       "    </tr>\n",
       "    <tr>\n",
       "      <th>std</th>\n",
       "      <td>25.652935</td>\n",
       "      <td>6.843189</td>\n",
       "      <td>1.064040</td>\n",
       "      <td>6.167913</td>\n",
       "      <td>29.472897</td>\n",
       "      <td>19.470572</td>\n",
       "      <td>4.506092</td>\n",
       "      <td>106.514540</td>\n",
       "      <td>0.288432</td>\n",
       "    </tr>\n",
       "    <tr>\n",
       "      <th>min</th>\n",
       "      <td>5.812500</td>\n",
       "      <td>24.772042</td>\n",
       "      <td>-1.876011</td>\n",
       "      <td>-1.791886</td>\n",
       "      <td>0.213211</td>\n",
       "      <td>7.370432</td>\n",
       "      <td>-3.139270</td>\n",
       "      <td>-1.976976</td>\n",
       "      <td>0.000000</td>\n",
       "    </tr>\n",
       "    <tr>\n",
       "      <th>25%</th>\n",
       "      <td>100.929688</td>\n",
       "      <td>42.376018</td>\n",
       "      <td>0.027098</td>\n",
       "      <td>-0.188572</td>\n",
       "      <td>1.923077</td>\n",
       "      <td>14.437332</td>\n",
       "      <td>5.781506</td>\n",
       "      <td>34.960504</td>\n",
       "      <td>0.000000</td>\n",
       "    </tr>\n",
       "    <tr>\n",
       "      <th>50%</th>\n",
       "      <td>115.078125</td>\n",
       "      <td>46.947479</td>\n",
       "      <td>0.223240</td>\n",
       "      <td>0.198710</td>\n",
       "      <td>2.801839</td>\n",
       "      <td>18.461316</td>\n",
       "      <td>8.433515</td>\n",
       "      <td>83.064556</td>\n",
       "      <td>0.000000</td>\n",
       "    </tr>\n",
       "    <tr>\n",
       "      <th>75%</th>\n",
       "      <td>127.085938</td>\n",
       "      <td>51.023202</td>\n",
       "      <td>0.473325</td>\n",
       "      <td>0.927783</td>\n",
       "      <td>5.464256</td>\n",
       "      <td>28.428104</td>\n",
       "      <td>10.702959</td>\n",
       "      <td>139.309331</td>\n",
       "      <td>0.000000</td>\n",
       "    </tr>\n",
       "    <tr>\n",
       "      <th>max</th>\n",
       "      <td>192.617188</td>\n",
       "      <td>98.778911</td>\n",
       "      <td>8.069522</td>\n",
       "      <td>68.101622</td>\n",
       "      <td>223.392140</td>\n",
       "      <td>110.642211</td>\n",
       "      <td>34.539844</td>\n",
       "      <td>1191.000837</td>\n",
       "      <td>1.000000</td>\n",
       "    </tr>\n",
       "  </tbody>\n",
       "</table>\n",
       "</div>"
      ],
      "text/plain": [
       "            ip_mean        ip_std       ip_kurt       ip_skew    dmsnr_mean  \\\n",
       "count  17898.000000  17898.000000  17898.000000  17898.000000  17898.000000   \n",
       "mean     111.079968     46.549532      0.477857      1.770279     12.614400   \n",
       "std       25.652935      6.843189      1.064040      6.167913     29.472897   \n",
       "min        5.812500     24.772042     -1.876011     -1.791886      0.213211   \n",
       "25%      100.929688     42.376018      0.027098     -0.188572      1.923077   \n",
       "50%      115.078125     46.947479      0.223240      0.198710      2.801839   \n",
       "75%      127.085938     51.023202      0.473325      0.927783      5.464256   \n",
       "max      192.617188     98.778911      8.069522     68.101622    223.392140   \n",
       "\n",
       "          dmsnr_std    dmsnr_kurt    dmsnr_skew         label  \n",
       "count  17898.000000  17898.000000  17898.000000  17898.000000  \n",
       "mean      26.326515      8.303556    104.857709      0.091574  \n",
       "std       19.470572      4.506092    106.514540      0.288432  \n",
       "min        7.370432     -3.139270     -1.976976      0.000000  \n",
       "25%       14.437332      5.781506     34.960504      0.000000  \n",
       "50%       18.461316      8.433515     83.064556      0.000000  \n",
       "75%       28.428104     10.702959    139.309331      0.000000  \n",
       "max      110.642211     34.539844   1191.000837      1.000000  "
      ]
     },
     "execution_count": 4,
     "metadata": {},
     "output_type": "execute_result"
    }
   ],
   "source": [
    "# print describtion \n",
    "pulsar.describe()"
   ]
  },
  {
   "cell_type": "code",
   "execution_count": 5,
   "metadata": {},
   "outputs": [
    {
     "data": {
      "text/plain": [
       "ip_mean       0\n",
       "ip_std        0\n",
       "ip_kurt       0\n",
       "ip_skew       0\n",
       "dmsnr_mean    0\n",
       "dmsnr_std     0\n",
       "dmsnr_kurt    0\n",
       "dmsnr_skew    0\n",
       "label         0\n",
       "dtype: int64"
      ]
     },
     "execution_count": 5,
     "metadata": {},
     "output_type": "execute_result"
    }
   ],
   "source": [
    "# look for missing values\n",
    "pulsar.isna().sum()"
   ]
  },
  {
   "cell_type": "code",
   "execution_count": 6,
   "metadata": {},
   "outputs": [
    {
     "data": {
      "text/plain": [
       "0    16259\n",
       "1     1639\n",
       "Name: label, dtype: int64"
      ]
     },
     "execution_count": 6,
     "metadata": {},
     "output_type": "execute_result"
    }
   ],
   "source": [
    "# look at class distribution\n",
    "pulsar.label.value_counts()"
   ]
  },
  {
   "cell_type": "markdown",
   "metadata": {},
   "source": [
    "We have 17898 instances of which only 9.2 % correspond to the positive class. The 8 numerical features correspond to simple statistics (mean, standard deviation, excess kurtosis, and skewness) of the radio signals' integrated profile and DM-SNR curve.\n",
    "\n",
    "We can have a look on how the features are distributed by plotting them in histograms:"
   ]
  },
  {
   "cell_type": "code",
   "execution_count": 7,
   "metadata": {},
   "outputs": [
    {
     "data": {
      "image/png": "[encoded data removed]",
      "text/plain": [
       "<Figure size 432x288 with 9 Axes>"
      ]
     },
     "metadata": {
      "needs_background": "light"
     },
     "output_type": "display_data"
    }
   ],
   "source": [
    "# plot histograms\n",
    "pulsar.hist()\n",
    "plt.tight_layout()"
   ]
  },
  {
   "cell_type": "markdown",
   "metadata": {},
   "source": [
    "We can see a couple of things in these histograms: \n",
    "- It does not look like any of the features were clipped of at any maximum or minimum value (which is great so we won't have to fix that).\n",
    "- The features are on very different scales, so we will have to rescale them later on.\n",
    "- Some of the features are very skewed or have outliers, which can be a problem for some algorithms and scaling transformations. We could try to transform them into a more Gaussian shape.\n",
    "\n",
    "We can now put aside a hold-out test set. Or actually, since I want to work with ensemble methods in this example, I will also split the train set into two subsets. One will be used to train and tune different classifiers and the second one will be used to train another classifier in a second layer which will blend the outputs of the first layer of classifiers. If we are lucky, our blended ensemble will work better than the individual classifiers."
   ]
  },
  {
   "cell_type": "code",
   "execution_count": 8,
   "metadata": {},
   "outputs": [],
   "source": [
    "from sklearn.model_selection import StratifiedShuffleSplit\n",
    "# put 20%  of the data aside as a test set\n",
    "split1 = StratifiedShuffleSplit(n_splits=1, test_size=0.2, random_state=1234)\n",
    "for train_index, test_index in split1.split(pulsar, pulsar[\"label\"]):\n",
    "    pulsar_train = pulsar.loc[train_index]\n",
    "    pulsar_test = pulsar.loc[test_index]\n",
    "    X_test = pulsar_test.loc[:,\"ip_mean\":\"dmsnr_skew\"]\n",
    "    y_test = pulsar_test.loc[:,\"label\"]\n",
    "    \n",
    "    \n",
    "# put 25%  of the training data aside for the blender layer 2\n",
    "pulsar_train = pulsar_train.reset_index(drop=True)\n",
    "split2 = StratifiedShuffleSplit(n_splits=1, test_size=0.25, random_state=1234)\n",
    "for train_index, test_index in split2.split(pulsar_train, pulsar_train[\"label\"]):\n",
    "    pulsar_layer1 = pulsar_train.reindex().loc[train_index]\n",
    "    X_layer1 = pulsar_layer1.loc[:,\"ip_mean\":\"dmsnr_skew\"]\n",
    "    y_layer1 = pulsar_layer1.loc[:,\"label\"]\n",
    "    \n",
    "    pulsar_layer2 = pulsar_train.reindex().loc[test_index]\n",
    "    X_layer2 = pulsar_layer2.loc[:,\"ip_mean\":\"dmsnr_skew\"]\n",
    "    y_layer2 = pulsar_layer2.loc[:,\"label\"]\n"
   ]
  },
  {
   "cell_type": "markdown",
   "metadata": {},
   "source": [
    "Let's see if  we can bring the data in a more Gaussian shape with Scikit-Learn's `PowerTransformer`. If there will still be strong outliers which would cause problems we could also try a `QuantileTransformer` which would force all values in a similar range and still produce a kind of Gaussian shaped distribution. At this point I have no idea which may work better so we'll just treat it as a hyper-parameter and try both. Let's write a transformer class for it."
   ]
  },
  {
   "cell_type": "code",
   "execution_count": 9,
   "metadata": {},
   "outputs": [],
   "source": [
    "from sklearn.base import BaseEstimator, TransformerMixin\n",
    "from sklearn.preprocessing import PowerTransformer\n",
    "from sklearn.preprocessing import QuantileTransformer\n",
    "\n",
    "# a transformer class to select either PowerTranformer or gaussian QuantileTransformer\n",
    "class PQTransformer(BaseEstimator, TransformerMixin):\n",
    "    def __init__(self, trans=\"power\"):\n",
    "        self.trans = trans\n",
    "        self.pt = PowerTransformer()\n",
    "        self.qt = QuantileTransformer(output_distribution=\"normal\")\n",
    "        \n",
    "    def fit(self, X, y=None):\n",
    "        self.pt.fit(X)\n",
    "        self.qt.fit(X)\n",
    "        return self\n",
    "    \n",
    "    def transform(self, X):\n",
    "        if self.trans == \"power\":\n",
    "            return self.pt.transform(X)\n",
    "        elif self.trans == \"quantile\":\n",
    "            return self.qt.transform(X)\n",
    "        else:\n",
    "            return None\n"
   ]
  },
  {
   "cell_type": "markdown",
   "metadata": {},
   "source": [
    "Let's have a look at the feature distribution after both transform options:"
   ]
  },
  {
   "cell_type": "code",
   "execution_count": 10,
   "metadata": {},
   "outputs": [
    {
     "data": {
      "image/png": "[encoded data removed]",
      "text/plain": [
       "<Figure size 432x288 with 1 Axes>"
      ]
     },
     "metadata": {
      "needs_background": "light"
     },
     "output_type": "display_data"
    }
   ],
   "source": [
    "# use a PowerTransformer\n",
    "transformer = PQTransformer(trans=\"power\")\n",
    "X_layer1_trans = pd.DataFrame(transformer.fit_transform(X_layer1),\n",
    "                              columns=X_layer1.columns)\n",
    "X_layer1_trans.plot(kind=\"box\")\n",
    "plt.tight_layout()"
   ]
  },
  {
   "cell_type": "code",
   "execution_count": 11,
   "metadata": {},
   "outputs": [
    {
     "data": {
      "image/png": "[encoded data removed]",
      "text/plain": [
       "<Figure size 432x288 with 1 Axes>"
      ]
     },
     "metadata": {
      "needs_background": "light"
     },
     "output_type": "display_data"
    }
   ],
   "source": [
    "# use a Gaussian QuantileTransformer\n",
    "transformer = PQTransformer(trans=\"quantile\")\n",
    "X_layer1_trans = pd.DataFrame(transformer.fit_transform(X_layer1),\n",
    "                              columns=X_layer1.columns)\n",
    "X_layer1_trans.plot(kind=\"box\")\n",
    "plt.tight_layout()"
   ]
  },
  {
   "cell_type": "markdown",
   "metadata": {},
   "source": [
    "The transformed data looks as expected; after the `PowerTransformer`, the data is still on quite different scales due to the outlying values. The `QuantileTransformer` brings everything on the same range but introduced [saturation artifacts](https://scikit-learn.org/stable/auto_examples/preprocessing/plot_all_scaling.html#sphx-glr-auto-examples-preprocessing-plot-all-scaling-py) for extreme values. We'll see what works better.\n",
    "\n",
    "Since all the 8 features come from only two types of measurements, they are most likely correlated in some way. Let's have a look at the correlation matrix."
   ]
  },
  {
   "cell_type": "code",
   "execution_count": 12,
   "metadata": {},
   "outputs": [
    {
     "data": {
      "text/plain": [
       "<matplotlib.axes._subplots.AxesSubplot at 0x7f089bf41400>"
      ]
     },
     "execution_count": 12,
     "metadata": {},
     "output_type": "execute_result"
    },
    {
     "data": {
      "image/png": "[encoded data removed]",
      "text/plain": [
       "<Figure size 432x288 with 2 Axes>"
      ]
     },
     "metadata": {
      "needs_background": "light"
     },
     "output_type": "display_data"
    }
   ],
   "source": [
    "# plot correlation matrix\n",
    "sns.heatmap(X_layer1_trans.corr(),annot=True, cmap=plt.cm.seismic)"
   ]
  },
  {
   "cell_type": "markdown",
   "metadata": {},
   "source": [
    "We can try to incorporate feature interaction by adding polynomial features, treating the degree as a hyper-parameter. However we should actually create these features before we do our power/quantile transform so we'll restructure the work flow a bit."
   ]
  },
  {
   "cell_type": "code",
   "execution_count": 13,
   "metadata": {},
   "outputs": [],
   "source": [
    "# put polynomial features and Transformer into a pipeline\n",
    "from sklearn.preprocessing import PolynomialFeatures\n",
    "from sklearn.pipeline import Pipeline\n",
    "preprocess = Pipeline([\n",
    "               ('poly', PolynomialFeatures()),\n",
    "               ('trans', PQTransformer())])"
   ]
  },
  {
   "cell_type": "markdown",
   "metadata": {},
   "source": [
    "## Selecting and tuning models\n",
    "Time to train some classifiers on the data. We'll start with a simple logistic regression to get somewhat of a benchmark."
   ]
  },
  {
   "cell_type": "code",
   "execution_count": 14,
   "metadata": {},
   "outputs": [
    {
     "name": "stdout",
     "output_type": "stream",
     "text": [
      "Best parameter (CV recall score=0.927):\n",
      "{'lr__C': 1, 'prep__poly__degree': 1, 'prep__trans__trans': 'quantile'}\n"
     ]
    }
   ],
   "source": [
    "from sklearn.linear_model import LogisticRegression\n",
    "from sklearn.model_selection import GridSearchCV\n",
    "\n",
    "# set up a pipeline with the preprocessing and a classifier \n",
    "lr_clf = Pipeline([\n",
    "               ('prep', preprocess),\n",
    "               ('lr', LogisticRegression(class_weight=\"balanced\",\n",
    "                                         solver=\"lbfgs\",\n",
    "                                         random_state=1234))]) # acount for class imbalance\n",
    "\n",
    "# perform a grid search cross evaluation of the paramters below\n",
    "param_grid = {\n",
    "    'prep__poly__degree': [1,2,3],\n",
    "    'prep__trans__trans': [\"power\",\"quantile\"],\n",
    "    'lr__C': [0.01,0.1,1,10],\n",
    "}\n",
    "\n",
    "lr_grid = GridSearchCV(lr_clf, param_grid, scoring=\"recall\",iid=False, cv=5,n_jobs=-1)\n",
    "lr_grid.fit(X_layer1, y_layer1)\n",
    "print(\"Best parameter (CV recall score=%0.3f):\" % lr_grid.best_score_)\n",
    "print(lr_grid.best_params_)\n"
   ]
  },
  {
   "cell_type": "code",
   "execution_count": 15,
   "metadata": {},
   "outputs": [
    {
     "name": "stdout",
     "output_type": "stream",
     "text": [
      "Logistic regression on layer 2 test set.\n",
      "Confusion matrix:\n",
      "[[3076  176]\n",
      " [  27  301]]\n",
      "Recall: 0.918\n",
      "Precision: 0.631\n",
      "Accuracy: 0.943\n"
     ]
    }
   ],
   "source": [
    "from sklearn.metrics import confusion_matrix\n",
    "from sklearn.metrics import precision_score\n",
    "from sklearn.metrics import recall_score\n",
    "from sklearn.metrics import accuracy_score\n",
    "# let's do a prediction for the layer 2 test set\n",
    "y_pred = lr_grid.predict(X_layer2)\n",
    "print(\"Logistic regression on layer 2 test set.\\nConfusion matrix:\")\n",
    "print(confusion_matrix(y_layer2, y_pred))\n",
    "print(\"Recall: {:0.3f}\".format(recall_score(y_layer2, y_pred)))\n",
    "print(\"Precision: {:0.3f}\".format(precision_score(y_layer2, y_pred)))\n",
    "print(\"Accuracy: {:0.3f}\".format(accuracy_score(y_layer2, y_pred)))"
   ]
  },
  {
   "cell_type": "markdown",
   "metadata": {},
   "source": [
    "That already looks pretty okay. Since we were optimizing for recall the precision is lousy but thats probably okay - rather have humans dig through some spurious signals than missing a real one. But unfortunately we're still missing a few Pulsars (false negatives) here, so let's see if we can do better with applying ensemble methods. One of the most popular algorithms in that field is random forest. It basically is an ensemble of decision trees of which each just deals with a subset of features and a bootstrapped subset of training instances. The prediction of all these simple trees is then combined to come up with a final prediction of the whole forest. The forest can be regularized by regularizing its trees (e.g. limiting number of leave nodes or depth)."
   ]
  },
  {
   "cell_type": "code",
   "execution_count": 16,
   "metadata": {
    "scrolled": true
   },
   "outputs": [
    {
     "name": "stdout",
     "output_type": "stream",
     "text": [
      "Best parameter (CV recall score=0.910):\n",
      "{'prep__poly__degree': 3, 'prep__trans__trans': 'power', 'rf__max_leaf_nodes': 10, 'rf__n_estimators': 100}\n"
     ]
    }
   ],
   "source": [
    "from sklearn.ensemble import RandomForestClassifier\n",
    "\n",
    "# set up a pipeline with the preprocessing and a classifier \n",
    "rf_clf = Pipeline([\n",
    "               ('prep', preprocess),\n",
    "               ('rf', RandomForestClassifier(class_weight=\"balanced_subsample\",\n",
    "                                             random_state=1234,\n",
    "                                             n_jobs=-1))]) # acount for class imbalance\n",
    "\n",
    "# perform a grid search cross evaluation of the paramters below\n",
    "param_grid = {\n",
    "    'prep__poly__degree': [1,2,3],\n",
    "    'prep__trans__trans': [\"power\",\"quantile\"],\n",
    "    'rf__n_estimators': [100,300,500],\n",
    "    'rf__max_leaf_nodes': [5,10,20],\n",
    "}\n",
    "\n",
    "rf_grid = GridSearchCV(rf_clf, param_grid, scoring=\"recall\",iid=False, cv=5,n_jobs=-1)\n",
    "rf_grid.fit(X_layer1, y_layer1)\n",
    "print(\"Best parameter (CV recall score=%0.3f):\" % rf_grid.best_score_)\n",
    "print(rf_grid.best_params_)"
   ]
  },
  {
   "cell_type": "code",
   "execution_count": 17,
   "metadata": {},
   "outputs": [
    {
     "name": "stdout",
     "output_type": "stream",
     "text": [
      "Best parameter (CV recall score=0.910):\n",
      "{'prep__poly__degree': 3, 'prep__trans__trans': 'power', 'rf__max_leaf_nodes': 6, 'rf__n_estimators': 100}\n"
     ]
    }
   ],
   "source": [
    "# we reached the border of our n_estimator parameter, so lets do another grid search around that parameter\n",
    "rf2_clf = Pipeline([\n",
    "               ('prep', preprocess),\n",
    "               ('rf', RandomForestClassifier(class_weight=\"balanced_subsample\",\n",
    "                                             random_state=1234,\n",
    "                                             n_jobs=-1))]) # acount for class imbalance\n",
    "param_grid = {\n",
    "    'prep__poly__degree': [3],\n",
    "    'prep__trans__trans': [\"power\"],\n",
    "    'rf__n_estimators': [50,100],\n",
    "    'rf__max_leaf_nodes': [4,6,10],\n",
    "}\n",
    "\n",
    "rf2_grid = GridSearchCV(rf2_clf, param_grid, scoring=\"recall\",iid=False, cv=5,n_jobs=-1)\n",
    "rf2_grid.fit(X_layer1, y_layer1)\n",
    "print(\"Best parameter (CV recall score=%0.3f):\" % rf2_grid.best_score_)\n",
    "print(rf2_grid.best_params_)"
   ]
  },
  {
   "cell_type": "code",
   "execution_count": 18,
   "metadata": {},
   "outputs": [
    {
     "name": "stdout",
     "output_type": "stream",
     "text": [
      "Random forrest on layer 2 test set.\n",
      "Confusion matrix:\n",
      "[[3181   71]\n",
      " [  33  295]]\n",
      "Recall: 0.899\n",
      "Precision: 0.806\n",
      "Accuracy: 0.971\n"
     ]
    }
   ],
   "source": [
    "# let's do a prediction for the layer 2 test set\n",
    "y_pred = rf2_grid.predict(X_layer2)\n",
    "print(\"Random forrest on layer 2 test set.\\nConfusion matrix:\")\n",
    "print(confusion_matrix(y_layer2, y_pred))\n",
    "print(\"Recall: {:0.3f}\".format(recall_score(y_layer2, y_pred)))\n",
    "print(\"Precision: {:0.3f}\".format(precision_score(y_layer2, y_pred)))\n",
    "print(\"Accuracy: {:0.3f}\".format(accuracy_score(y_layer2, y_pred)))"
   ]
  },
  {
   "cell_type": "markdown",
   "metadata": {},
   "source": [
    "Looks like the forest actually performed (a little bit) worse than just the logistic regression. Maybe we can try another kind of ensemble, e.g. AdaBoost. In this ensemble, we subsequently train weak learners and each learner will try to correct the errors that its predecessor makes. We could use pretty much any base estimator, but let's stick to trees. Or rather stumps because we won't allow them to perform more than one split per estimator. "
   ]
  },
  {
   "cell_type": "code",
   "execution_count": 19,
   "metadata": {},
   "outputs": [
    {
     "name": "stdout",
     "output_type": "stream",
     "text": [
      "Best parameter (CV recall score=0.919):\n",
      "{'ab__learning_rate': 0.5, 'ab__n_estimators': 10, 'prep__poly__degree': 3, 'prep__trans__trans': 'power'}\n"
     ]
    }
   ],
   "source": [
    "from sklearn.ensemble import AdaBoostClassifier\n",
    "from sklearn.tree import DecisionTreeClassifier\n",
    "\n",
    "# set up a pipeline with the preprocessing and a classifier \n",
    "ab_clf = Pipeline([\n",
    "               ('prep', preprocess),\n",
    "               ('ab', AdaBoostClassifier(\n",
    "                   base_estimator=DecisionTreeClassifier(max_depth=1,\n",
    "                                                         class_weight=\"balanced\"),\n",
    "                   algorithm=\"SAMME.R\",\n",
    "                   random_state=1234))]) # acount for class imbalance\n",
    "\n",
    "# perform a grid search cross evaluation of the paramters below\n",
    "param_grid = {\n",
    "    'prep__poly__degree': [1,2,3],\n",
    "    'prep__trans__trans': [\"power\",\"quantile\"],\n",
    "    'ab__n_estimators': [10,50,100],\n",
    "    'ab__learning_rate': [0.5,1.0,1.5],\n",
    "}\n",
    "\n",
    "ab_grid = GridSearchCV(ab_clf, param_grid, scoring=\"recall\",iid=False, cv=5,n_jobs=-1)\n",
    "ab_grid.fit(X_layer1, y_layer1)\n",
    "print(\"Best parameter (CV recall score=%0.3f):\" % ab_grid.best_score_)\n",
    "print(ab_grid.best_params_)"
   ]
  },
  {
   "cell_type": "code",
   "execution_count": 20,
   "metadata": {},
   "outputs": [
    {
     "name": "stdout",
     "output_type": "stream",
     "text": [
      "Best parameter (CV recall score=0.924):\n",
      "{'ab__learning_rate': 0.3, 'ab__n_estimators': 2, 'prep__poly__degree': 3, 'prep__trans__trans': 'power'}\n"
     ]
    }
   ],
   "source": [
    "# we reached the border of our n_estimator parameter, so lets do another grid search around that parameter\n",
    "ab2_clf = Pipeline([\n",
    "               ('prep', preprocess),\n",
    "               ('ab', AdaBoostClassifier(\n",
    "                   base_estimator=DecisionTreeClassifier(max_depth=1,\n",
    "                                                         class_weight=\"balanced\"),\n",
    "                   algorithm=\"SAMME.R\",\n",
    "                   random_state=1234))]) # acount for class imbalance\n",
    "\n",
    "param_grid = {\n",
    "    'prep__poly__degree': [3],\n",
    "    'prep__trans__trans': [\"power\"],\n",
    "    'ab__n_estimators': [1,2,3,10],\n",
    "    'ab__learning_rate': [0.1,0.3,0.5],\n",
    "}\n",
    "\n",
    "ab2_grid = GridSearchCV(ab2_clf, param_grid, scoring=\"recall\",iid=False, cv=5,n_jobs=-1)\n",
    "ab2_grid.fit(X_layer1, y_layer1)\n",
    "print(\"Best parameter (CV recall score=%0.3f):\" % ab2_grid.best_score_)\n",
    "print(ab2_grid.best_params_)"
   ]
  },
  {
   "cell_type": "code",
   "execution_count": 21,
   "metadata": {},
   "outputs": [
    {
     "name": "stdout",
     "output_type": "stream",
     "text": [
      "Random forrest on layer 2 test set.\n",
      "Confusion matrix:\n",
      "[[3095  157]\n",
      " [  24  304]]\n",
      "Recall: 0.927\n",
      "Precision: 0.659\n",
      "Accuracy: 0.949\n"
     ]
    }
   ],
   "source": [
    "# let's do a prediction for the layer 2 test set\n",
    "y_pred = ab2_grid.predict(X_layer2)\n",
    "print(\"Random forrest on layer 2 test set.\\nConfusion matrix:\")\n",
    "print(confusion_matrix(y_layer2, y_pred))\n",
    "print(\"Recall: {:0.3f}\".format(recall_score(y_layer2, y_pred)))\n",
    "print(\"Precision: {:0.3f}\".format(precision_score(y_layer2, y_pred)))\n",
    "print(\"Accuracy: {:0.3f}\".format(accuracy_score(y_layer2, y_pred)))"
   ]
  },
  {
   "cell_type": "markdown",
   "metadata": {},
   "source": [
    "Nice, we minimally improved the performance compared to the logistic regression. Now how about if we could stuff our ensembles into a bigger ensemble? Each of the classifiers we have trained and tuned so far can predict a probability for a class. So we could take into account all these probabilities to find out which class is considered most likely by all the classifiers combined. Scikit-Learn offers a `VotingClassifier` for this purpose.  "
   ]
  },
  {
   "cell_type": "code",
   "execution_count": 22,
   "metadata": {},
   "outputs": [],
   "source": [
    "from sklearn.metrics import confusion_matrix\n",
    "from sklearn.metrics import precision_score\n",
    "from sklearn.metrics import recall_score\n",
    "from sklearn.metrics import accuracy_score\n",
    "from sklearn.model_selection import GridSearchCV\n",
    "from sklearn.linear_model import LogisticRegression\n",
    "from sklearn.ensemble import RandomForestClassifier\n",
    "from sklearn.ensemble import AdaBoostClassifier\n",
    "from sklearn.tree import DecisionTreeClassifier\n",
    "\n",
    "\n",
    "from sklearn.ensemble import VotingClassifier\n",
    "# set up the preprep pipes with the classifiers from earlier with the optimized parameters\n",
    "\n",
    "# preprosessing + logistic regression\n",
    "lr_pipe = Pipeline([('poly',PolynomialFeatures(degree=3)),\n",
    "                    ('trans',PQTransformer(trans=\"quantile\")),\n",
    "                    ('lr', LogisticRegression(C=1,\n",
    "                                             class_weight=\"balanced\",\n",
    "                                             solver=\"lbfgs\",\n",
    "                                             max_iter=100000,\n",
    "                                             random_state=1234))])\n",
    "# preprosessing + random forest\n",
    "rf_pipe = Pipeline([('poly',PolynomialFeatures(degree=3)),\n",
    "                    ('power',PQTransformer(trans=\"power\")),\n",
    "                    ('rf', RandomForestClassifier(n_estimators=100,\n",
    "                                                  max_leaf_nodes=6,\n",
    "                                                  class_weight=\"balanced_subsample\",\n",
    "                                                  random_state=1234,\n",
    "                                                  n_jobs=-1))])\n",
    "# preprosessing + AdaBoost\n",
    "ab_pipe = Pipeline([('poly',PolynomialFeatures(degree=3)),\n",
    "                    ('power',PQTransformer(trans=\"power\")),\n",
    "                    ('ab', AdaBoostClassifier(\n",
    "                            base_estimator=DecisionTreeClassifier(max_depth=1,\n",
    "                                                                  class_weight=\"balanced\"),\n",
    "                            learning_rate=0.3,\n",
    "                            n_estimators=2,\n",
    "                            algorithm=\"SAMME.R\",\n",
    "                            random_state=1234))])\n",
    "\n",
    "\n",
    "# combine everything in one voting classifier\n",
    "vote_clf = VotingClassifier(estimators=[('lr', lr_pipe), ('rf', rf_pipe), ('ab', ab_pipe)],\n",
    "                            voting=\"soft\", n_jobs=-1)\n",
    "_ = vote_clf.fit(X=X_layer1,y=y_layer1)"
   ]
  },
  {
   "cell_type": "code",
   "execution_count": 23,
   "metadata": {},
   "outputs": [
    {
     "name": "stdout",
     "output_type": "stream",
     "text": [
      "Voting classifier on layer 2 test set.\n",
      "Confusion matrix:\n",
      "[[3166   86]\n",
      " [  28  300]]\n",
      "Recall: 0.915\n",
      "Precision: 0.777\n",
      "Accuracy: 0.968\n"
     ]
    }
   ],
   "source": [
    "# let's do a prediction for the layer 2 test set\n",
    "y_pred = vote_clf.predict(X_layer2)\n",
    "print(\"Voting classifier on layer 2 test set.\\nConfusion matrix:\")\n",
    "print(confusion_matrix(y_layer2, y_pred))\n",
    "print(\"Recall: {:0.3f}\".format(recall_score(y_layer2, y_pred)))\n",
    "print(\"Precision: {:0.3f}\".format(precision_score(y_layer2, y_pred)))\n",
    "print(\"Accuracy: {:0.3f}\".format(accuracy_score(y_layer2, y_pred)))"
   ]
  },
  {
   "cell_type": "markdown",
   "metadata": {},
   "source": [
    "As we can see, combining the classifiers into a voting ensemble did not improv the performance. Let's have a look at which examples are being missclassifed."
   ]
  },
  {
   "cell_type": "code",
   "execution_count": 24,
   "metadata": {},
   "outputs": [
    {
     "name": "stdout",
     "output_type": "stream",
     "text": [
      "2805    4\n",
      "2960    4\n",
      "2062    4\n",
      "2333    4\n",
      "554     4\n",
      "1581    4\n",
      "1590    4\n",
      "2879    4\n",
      "1603    4\n",
      "326     4\n",
      "3416    4\n",
      "122     4\n",
      "2234    4\n",
      "134     4\n",
      "244     4\n",
      "140     4\n",
      "2548    4\n",
      "1222    4\n",
      "236     4\n",
      "230     4\n",
      "3342    4\n",
      "3061    4\n",
      "3019    4\n",
      "3530    4\n",
      "1793    4\n",
      "186     4\n",
      "432     4\n",
      "686     4\n",
      "2141    3\n",
      "3291    3\n",
      "2225    3\n",
      "2784    3\n",
      "795     3\n",
      "1846    1\n",
      "2673    1\n",
      "383     1\n",
      "596     1\n",
      "dtype: int64\n"
     ]
    }
   ],
   "source": [
    "# train all the classifierers and get the false negatives from the prediction\n",
    "lr_pipe.fit(X_layer1,y_layer1)\n",
    "lr_y_pred = lr_pipe.predict(X_layer2)\n",
    "lr_fn = [ i for i,x in enumerate(zip(y_layer2,lr_y_pred)) if x[0]!=x[1] and x[0]==1]\n",
    "\n",
    "rf_pipe.fit(X_layer1,y_layer1)\n",
    "rf_y_pred = rf_pipe.predict(X_layer2)\n",
    "rf_fn = [ i for i,x in enumerate(zip(y_layer2,rf_y_pred)) if x[0]!=x[1] and x[0]==1]\n",
    "\n",
    "ab_pipe.fit(X_layer1,y_layer1)\n",
    "ab_y_pred = ab_pipe.predict(X_layer2)\n",
    "ab_fn = [ i for i,x in enumerate(zip(y_layer2,rf_y_pred)) if x[0]!=x[1] and x[0]==1]\n",
    "\n",
    "vote_clf.fit(X_layer1,y_layer1)\n",
    "vote_y_pred = vote_clf.predict(X_layer2)\n",
    "vote_fn = [ i for i,x in enumerate(zip(y_layer2,rf_y_pred)) if x[0]!=x[1] and x[0]==1]\n",
    "\n",
    "# count how often each false negative got missclassified\n",
    "print(pd.Series(lr_fn+ab_fn+rf_fn+vote_fn).value_counts())"
   ]
  },
  {
   "cell_type": "markdown",
   "metadata": {},
   "source": [
    "Looks like almost all false negatives got missclassified by all classifiers.\n",
    "\n",
    "We will now try to blend the output of all these classifiers into another classifer. Maybe there's a pattern in why all these false negatives get missclassified and maybe a second layer classifier will be abel to pick up this pattern and correct it.\n",
    "\n",
    "We will use our layer 2 set to train the bleder layer but first, we'll have to send it through layer 1 (which was trained on the layer 1 set) and predict each instances class probability, which will be used as feature for layer 2. Note that when  we are ust dealing with the probability for a class, we cannot optimize for recall because one can simply categorize every instance as a Pulsar - then there would be no false negatives but a loooot of false positives and the whole task wouldn't make any sense. Therefore, we will use the F1 score, which is a mix of recall and precision. It is better suited than accuracy for strong class imbalances like in this case."
   ]
  },
  {
   "cell_type": "code",
   "execution_count": 25,
   "metadata": {},
   "outputs": [],
   "source": [
    "# we'll predict probability for the positive class using all calssifiers\n",
    "def blender_features(X_layer2):\n",
    "    lr_y_prob = lr_pipe.predict_proba(X_layer2)[:,1]\n",
    "    rf_y_prob = rf_pipe.predict_proba(X_layer2)[:,1]\n",
    "    ab_y_prob = ab_pipe.predict_proba(X_layer2)[:,1]\n",
    "    vote_y_prob = vote_clf.predict_proba(X_layer2)[:,1]\n",
    "# and these probabilities will be the new features for our second blender layer\n",
    "    return np.c_[lr_y_prob,rf_y_prob,ab_y_prob,vote_y_prob]"
   ]
  },
  {
   "cell_type": "code",
   "execution_count": 26,
   "metadata": {
    "scrolled": false
   },
   "outputs": [
    {
     "name": "stdout",
     "output_type": "stream",
     "text": [
      "Best parameter (CV F1 score=0.839):\n",
      "{'C': 1e-05}\n"
     ]
    }
   ],
   "source": [
    "# do a grid search on a logistic regression classifier which serves as the blender\n",
    "X_blend = blender_features(X_layer2)\n",
    "\n",
    "param_grid = {\"C\":[1e-10,1e-5,1e-5,1e-2,1]}\n",
    "blender_grid = GridSearchCV(LogisticRegression(class_weight=\"balanced\",\n",
    "                                         solver=\"lbfgs\",\n",
    "                                         random_state=1234),\n",
    "                            param_grid=param_grid, scoring=\"f1\",\n",
    "                            iid=False, cv=5,n_jobs=-1)\n",
    "\n",
    "blender_grid.fit(X_blend,y_layer2)\n",
    "print(\"Best parameter (CV F1 score=%0.3f):\" % blender_grid.best_score_)\n",
    "print(blender_grid.best_params_)"
   ]
  },
  {
   "cell_type": "code",
   "execution_count": 27,
   "metadata": {},
   "outputs": [
    {
     "name": "stdout",
     "output_type": "stream",
     "text": [
      "Blender classifier on final test set.\n",
      "Confusion matrix:\n",
      "[[3167   85]\n",
      " [  30  298]]\n",
      "Recall: 0.909\n",
      "Precision: 0.778\n",
      "Accuracy: 0.968\n"
     ]
    }
   ],
   "source": [
    "# let's do a the final test prediction for the actual test set\n",
    "X_blend_test = blender_features(X_test)\n",
    "y_pred = blender_grid.predict(X_blend_test)\n",
    "print(\"Blender classifier on final test set.\\nConfusion matrix:\")\n",
    "print(confusion_matrix(y_test, y_pred))\n",
    "print(\"Recall: {:0.3f}\".format(recall_score(y_test, y_pred)))\n",
    "print(\"Precision: {:0.3f}\".format(precision_score(y_test, y_pred)))\n",
    "print(\"Accuracy: {:0.3f}\".format(accuracy_score(y_test, y_pred)))"
   ]
  },
  {
   "cell_type": "markdown",
   "metadata": {},
   "source": [
    "Okay, that's a little disappointing. Not much of an improvement here. Looks like all the fancy ensembles we tried are not performing much better than the first simple logistic regression we used as a benchmark. \n",
    "\n",
    "That probably means that we do not just deal with random noise that may cause trouble for some types of classifiers, and which we can try to cancel out by using ensembles. All classifiers seemed to misclassify the same instances. Probably there is something systematically different about the misclassified false negative Pulsars, something that makes them look more like the spurious signals in the data set. \n",
    "\n",
    "If we really wanted to solve this problem we should investigate these examples in detail now, find out what is special about them, and engineer this into features which a classification algorithm can work with in a better way. But hey, this was just supposed to be an example for demonstrating ensemble methods; hence, let's call it a day and end here.\n",
    "\n",
    "Thanks for following me through this example!"
   ]
  }
 ],
 "metadata": {
  "kernelspec": {
   "display_name": "Python 3",
   "language": "python",
   "name": "python3"
  },
  "language_info": {
   "codemirror_mode": {
    "name": "ipython",
    "version": 3
   },
   "file_extension": ".py",
   "mimetype": "text/x-python",
   "name": "python",
   "nbconvert_exporter": "python",
   "pygments_lexer": "ipython3",
   "version": "3.7.3"
  }
 },
 "nbformat": 4,
 "nbformat_minor": 2
}
