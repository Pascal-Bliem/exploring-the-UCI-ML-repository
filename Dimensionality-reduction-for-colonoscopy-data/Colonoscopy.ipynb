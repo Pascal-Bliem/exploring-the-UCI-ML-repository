{
 "cells": [
  {
   "cell_type": "markdown",
   "metadata": {},
   "source": [
    "# Dimensionality reduction on colonoscopy video data \n",
    "\n",
    "Machine learning is becoming more successful in many medical applications, especially in analyzing image or video data. The field of proctology is no exception. I find this example particularly interesting as one of my best friends has to get regular colonoscopies as a measure of colon cancer prophylactics and I'd like to tell her if machine learning can assist the doctors in classifying whatever they find in her behind as benign or malignant.\n",
    "\n",
    "This data set contains 76 instances of gastrointestinal lesions, two malignant and one benign type, from regular colonoscopy data. It was contributed to the [UCI Machine Learning Repository](http://archive.ics.uci.edu/ml/datasets/Gastrointestinal+Lesions+in+Regular+Colonoscopy) by Pablo Mesejo and Daniel Pizarro. You can find a detailed description on the website. They also provided a summary of how human experts performed on classifying the examples."
   ]
  },
  {
   "cell_type": "markdown",
   "metadata": {},
   "source": [
    "## Frame the Problem\n",
    "In this example, we want to classify each lesions as either serrated adenomas, adenoma, or hyperplastic lesion. The first two are considered malignant, the latter as benign. Hence, we can also treat it as a binary classification problem (the authors of the data set labeled this binary case as *resection* vs. *no-resection*). \n",
    "\n",
    "What is special about this data set is that we are dealing with a lot of features but only a few instances. From each video, there are 422 2D textural features, 76 2D color features, 200 3D shape features, and each of those recorded under two different light conditions. A total of 1397 features and only 76 instances. Most classification algorithms will have problems with this ratio. Support vector machines are known for being able to deal with many features given few instances, but this ratio might be too extreme even for them. So what can we do about it? \n",
    "\n",
    "In this example we will try to apply principal component analysis (PCA) to reduce the dimensionality of the feature space while still preserving much information of the original data. PCA will project the original high-dimensional data on a lower dimensional hyperplane (which is spanned by the principal components). We can either specify a number of dimensions and pick the PCs that preserve the most variance or we specify ho much variance should be preserved and pick the number of PCs accordingly. \n",
    "\n",
    "I would usually chose recall as optimization metric because I think it is important to not miss potential cancer; but since we want to compare to human performance (who probably want to get all classifications right) and we have a class imbalance, I'll choose the F1 score."
   ]
  },
  {
   "cell_type": "code",
   "execution_count": 1,
   "metadata": {},
   "outputs": [],
   "source": [
    "# import libraries \n",
    "import numpy as np # numerical computation\n",
    "import pandas as pd # data handling\n",
    "import warnings\n",
    "warnings.filterwarnings('ignore')\n",
    "# visulalization\n",
    "import matplotlib.pyplot as plt \n",
    "import seaborn as sns \n",
    "sns.set_style(\"darkgrid\")\n",
    "%matplotlib notebook"
   ]
  },
  {
   "cell_type": "markdown",
   "metadata": {},
   "source": [
    "## Data preparation\n",
    "Let's import the data into data frame hand have a look."
   ]
  },
  {
   "cell_type": "code",
   "execution_count": 2,
   "metadata": {},
   "outputs": [
    {
     "data": {
      "text/html": [
       "<div>\n",
       "<style scoped>\n",
       "    .dataframe tbody tr th:only-of-type {\n",
       "        vertical-align: middle;\n",
       "    }\n",
       "\n",
       "    .dataframe tbody tr th {\n",
       "        vertical-align: top;\n",
       "    }\n",
       "\n",
       "    .dataframe thead th {\n",
       "        text-align: right;\n",
       "    }\n",
       "</style>\n",
       "<table border=\"1\" class=\"dataframe\">\n",
       "  <thead>\n",
       "    <tr style=\"text-align: right;\">\n",
       "      <th></th>\n",
       "      <th>adenoma_1</th>\n",
       "      <th>adenoma_1.1</th>\n",
       "      <th>adenoma_8</th>\n",
       "      <th>adenoma_8.1</th>\n",
       "      <th>adenoma_9</th>\n",
       "      <th>adenoma_9.1</th>\n",
       "      <th>adenoma_10</th>\n",
       "      <th>adenoma_10.1</th>\n",
       "      <th>adenoma_11</th>\n",
       "      <th>adenoma_11.1</th>\n",
       "      <th>...</th>\n",
       "      <th>serrated_5</th>\n",
       "      <th>serrated_5.1</th>\n",
       "      <th>serrated_6</th>\n",
       "      <th>serrated_6.1</th>\n",
       "      <th>serrated_7</th>\n",
       "      <th>serrated_7.1</th>\n",
       "      <th>serrated_8</th>\n",
       "      <th>serrated_8.1</th>\n",
       "      <th>serrated_9</th>\n",
       "      <th>serrated_9.1</th>\n",
       "    </tr>\n",
       "  </thead>\n",
       "  <tbody>\n",
       "    <tr>\n",
       "      <th>0</th>\n",
       "      <td>3.000000</td>\n",
       "      <td>3.000000</td>\n",
       "      <td>3.000000</td>\n",
       "      <td>3.000000</td>\n",
       "      <td>3.000000</td>\n",
       "      <td>3.000000</td>\n",
       "      <td>3.000000</td>\n",
       "      <td>3.000000</td>\n",
       "      <td>3.000000</td>\n",
       "      <td>3.000000</td>\n",
       "      <td>...</td>\n",
       "      <td>2.000000</td>\n",
       "      <td>2.000000</td>\n",
       "      <td>2.000000</td>\n",
       "      <td>2.000000</td>\n",
       "      <td>2.000000</td>\n",
       "      <td>2.000000</td>\n",
       "      <td>2.000000</td>\n",
       "      <td>2.000000</td>\n",
       "      <td>2.000000</td>\n",
       "      <td>2.000000</td>\n",
       "    </tr>\n",
       "    <tr>\n",
       "      <th>1</th>\n",
       "      <td>1.000000</td>\n",
       "      <td>2.000000</td>\n",
       "      <td>2.000000</td>\n",
       "      <td>1.000000</td>\n",
       "      <td>2.000000</td>\n",
       "      <td>1.000000</td>\n",
       "      <td>1.000000</td>\n",
       "      <td>2.000000</td>\n",
       "      <td>2.000000</td>\n",
       "      <td>1.000000</td>\n",
       "      <td>...</td>\n",
       "      <td>1.000000</td>\n",
       "      <td>2.000000</td>\n",
       "      <td>1.000000</td>\n",
       "      <td>2.000000</td>\n",
       "      <td>1.000000</td>\n",
       "      <td>2.000000</td>\n",
       "      <td>2.000000</td>\n",
       "      <td>1.000000</td>\n",
       "      <td>1.000000</td>\n",
       "      <td>2.000000</td>\n",
       "    </tr>\n",
       "    <tr>\n",
       "      <th>2</th>\n",
       "      <td>138.120000</td>\n",
       "      <td>127.990000</td>\n",
       "      <td>80.415000</td>\n",
       "      <td>90.896000</td>\n",
       "      <td>106.160000</td>\n",
       "      <td>147.090000</td>\n",
       "      <td>148.730000</td>\n",
       "      <td>126.050000</td>\n",
       "      <td>109.130000</td>\n",
       "      <td>129.700000</td>\n",
       "      <td>...</td>\n",
       "      <td>114.590000</td>\n",
       "      <td>86.424000</td>\n",
       "      <td>163.680000</td>\n",
       "      <td>71.638000</td>\n",
       "      <td>180.110000</td>\n",
       "      <td>136.550000</td>\n",
       "      <td>96.852000</td>\n",
       "      <td>157.810000</td>\n",
       "      <td>93.569000</td>\n",
       "      <td>95.543000</td>\n",
       "    </tr>\n",
       "    <tr>\n",
       "      <th>3</th>\n",
       "      <td>1606.800000</td>\n",
       "      <td>3377.900000</td>\n",
       "      <td>1852.100000</td>\n",
       "      <td>1904.300000</td>\n",
       "      <td>1184.400000</td>\n",
       "      <td>822.320000</td>\n",
       "      <td>2412.500000</td>\n",
       "      <td>4752.200000</td>\n",
       "      <td>999.390000</td>\n",
       "      <td>599.950000</td>\n",
       "      <td>...</td>\n",
       "      <td>3014.500000</td>\n",
       "      <td>3500.900000</td>\n",
       "      <td>3253.100000</td>\n",
       "      <td>1822.200000</td>\n",
       "      <td>1198.500000</td>\n",
       "      <td>1316.300000</td>\n",
       "      <td>2071.300000</td>\n",
       "      <td>2732.300000</td>\n",
       "      <td>1163.600000</td>\n",
       "      <td>2240.500000</td>\n",
       "    </tr>\n",
       "    <tr>\n",
       "      <th>4</th>\n",
       "      <td>0.003875</td>\n",
       "      <td>0.003564</td>\n",
       "      <td>0.004761</td>\n",
       "      <td>0.004147</td>\n",
       "      <td>0.005518</td>\n",
       "      <td>0.003871</td>\n",
       "      <td>0.003336</td>\n",
       "      <td>0.004188</td>\n",
       "      <td>0.005541</td>\n",
       "      <td>0.005917</td>\n",
       "      <td>...</td>\n",
       "      <td>0.004444</td>\n",
       "      <td>0.003409</td>\n",
       "      <td>0.004869</td>\n",
       "      <td>0.004148</td>\n",
       "      <td>0.003273</td>\n",
       "      <td>0.002442</td>\n",
       "      <td>0.004379</td>\n",
       "      <td>0.004015</td>\n",
       "      <td>0.002199</td>\n",
       "      <td>0.004803</td>\n",
       "    </tr>\n",
       "  </tbody>\n",
       "</table>\n",
       "<p>5 rows × 152 columns</p>\n",
       "</div>"
      ],
      "text/plain": [
       "     adenoma_1  adenoma_1.1    adenoma_8  adenoma_8.1    adenoma_9  \\\n",
       "0     3.000000     3.000000     3.000000     3.000000     3.000000   \n",
       "1     1.000000     2.000000     2.000000     1.000000     2.000000   \n",
       "2   138.120000   127.990000    80.415000    90.896000   106.160000   \n",
       "3  1606.800000  3377.900000  1852.100000  1904.300000  1184.400000   \n",
       "4     0.003875     0.003564     0.004761     0.004147     0.005518   \n",
       "\n",
       "   adenoma_9.1   adenoma_10  adenoma_10.1  adenoma_11  adenoma_11.1  ...  \\\n",
       "0     3.000000     3.000000      3.000000    3.000000      3.000000  ...   \n",
       "1     1.000000     1.000000      2.000000    2.000000      1.000000  ...   \n",
       "2   147.090000   148.730000    126.050000  109.130000    129.700000  ...   \n",
       "3   822.320000  2412.500000   4752.200000  999.390000    599.950000  ...   \n",
       "4     0.003871     0.003336      0.004188    0.005541      0.005917  ...   \n",
       "\n",
       "    serrated_5  serrated_5.1   serrated_6  serrated_6.1   serrated_7  \\\n",
       "0     2.000000      2.000000     2.000000      2.000000     2.000000   \n",
       "1     1.000000      2.000000     1.000000      2.000000     1.000000   \n",
       "2   114.590000     86.424000   163.680000     71.638000   180.110000   \n",
       "3  3014.500000   3500.900000  3253.100000   1822.200000  1198.500000   \n",
       "4     0.004444      0.003409     0.004869      0.004148     0.003273   \n",
       "\n",
       "   serrated_7.1   serrated_8  serrated_8.1   serrated_9  serrated_9.1  \n",
       "0      2.000000     2.000000      2.000000     2.000000      2.000000  \n",
       "1      2.000000     2.000000      1.000000     1.000000      2.000000  \n",
       "2    136.550000    96.852000    157.810000    93.569000     95.543000  \n",
       "3   1316.300000  2071.300000   2732.300000  1163.600000   2240.500000  \n",
       "4      0.002442     0.004379      0.004015     0.002199      0.004803  \n",
       "\n",
       "[5 rows x 152 columns]"
      ]
     },
     "execution_count": 2,
     "metadata": {},
     "output_type": "execute_result"
    }
   ],
   "source": [
    "colon = pd.read_csv(\"data.txt\")\n",
    "colon.head()"
   ]
  },
  {
   "cell_type": "markdown",
   "metadata": {},
   "source": [
    "In this raw format, each column represents an instance measured at one of the two different light conditions, and the rows represents a features. The first row is the class label and the second row the light condition (1 or 2). We'll first have to merge the two light conditions per instance and than transpose the data frame so that we have the data in a [tidy format](https://vita.had.co.nz/papers/tidy-data.pdf#targetText=This%20paper%20tackles%20a%20small,observational%20unit%20is%20a%20table.)."
   ]
  },
  {
   "cell_type": "code",
   "execution_count": 3,
   "metadata": {},
   "outputs": [],
   "source": [
    "# get the column names for light conditions 1 and 2\n",
    "light1cols = colon.loc[1,colon.iloc[1]==1].index\n",
    "light2cols = colon.loc[1,colon.iloc[1]==2].index\n",
    "# create seperate data frames for the two conditions\n",
    "light1 = colon[light1cols]\n",
    "light2 = colon[light2cols]\n",
    "# give them the same column names so that they can be appended \n",
    "light2.columns = light1.columns\n",
    "# append data frame while dropping the light condtion and class label from one of them\n",
    "colon = light1.append(light2.iloc[2:])\n",
    "# drop the light condition from the other one\n",
    "colon = colon.drop(1,axis=0).reset_index(drop=True)\n",
    "# transpose the data frame so that instances are rows and features are columns\n",
    "colon = colon.T.reset_index(drop=True).rename(columns={0:\"label\"})"
   ]
  },
  {
   "cell_type": "code",
   "execution_count": 4,
   "metadata": {},
   "outputs": [
    {
     "data": {
      "text/html": [
       "<div>\n",
       "<style scoped>\n",
       "    .dataframe tbody tr th:only-of-type {\n",
       "        vertical-align: middle;\n",
       "    }\n",
       "\n",
       "    .dataframe tbody tr th {\n",
       "        vertical-align: top;\n",
       "    }\n",
       "\n",
       "    .dataframe thead th {\n",
       "        text-align: right;\n",
       "    }\n",
       "</style>\n",
       "<table border=\"1\" class=\"dataframe\">\n",
       "  <thead>\n",
       "    <tr style=\"text-align: right;\">\n",
       "      <th></th>\n",
       "      <th>label</th>\n",
       "      <th>1</th>\n",
       "      <th>2</th>\n",
       "      <th>3</th>\n",
       "      <th>4</th>\n",
       "      <th>5</th>\n",
       "      <th>6</th>\n",
       "      <th>7</th>\n",
       "      <th>8</th>\n",
       "      <th>9</th>\n",
       "      <th>...</th>\n",
       "      <th>1387</th>\n",
       "      <th>1388</th>\n",
       "      <th>1389</th>\n",
       "      <th>1390</th>\n",
       "      <th>1391</th>\n",
       "      <th>1392</th>\n",
       "      <th>1393</th>\n",
       "      <th>1394</th>\n",
       "      <th>1395</th>\n",
       "      <th>1396</th>\n",
       "    </tr>\n",
       "  </thead>\n",
       "  <tbody>\n",
       "    <tr>\n",
       "      <th>0</th>\n",
       "      <td>3.0</td>\n",
       "      <td>138.120</td>\n",
       "      <td>1606.80</td>\n",
       "      <td>0.003875</td>\n",
       "      <td>0.005880</td>\n",
       "      <td>0.005213</td>\n",
       "      <td>0.006935</td>\n",
       "      <td>0.007333</td>\n",
       "      <td>0.009580</td>\n",
       "      <td>0.007380</td>\n",
       "      <td>...</td>\n",
       "      <td>0.013994</td>\n",
       "      <td>0.013532</td>\n",
       "      <td>0.013157</td>\n",
       "      <td>0.012743</td>\n",
       "      <td>0.012613</td>\n",
       "      <td>0.012422</td>\n",
       "      <td>0.012252</td>\n",
       "      <td>0.011377</td>\n",
       "      <td>0.011198</td>\n",
       "      <td>0.011131</td>\n",
       "    </tr>\n",
       "    <tr>\n",
       "      <th>1</th>\n",
       "      <td>3.0</td>\n",
       "      <td>90.896</td>\n",
       "      <td>1904.30</td>\n",
       "      <td>0.004147</td>\n",
       "      <td>0.006728</td>\n",
       "      <td>0.005061</td>\n",
       "      <td>0.006879</td>\n",
       "      <td>0.007948</td>\n",
       "      <td>0.009525</td>\n",
       "      <td>0.010492</td>\n",
       "      <td>...</td>\n",
       "      <td>0.003564</td>\n",
       "      <td>0.003380</td>\n",
       "      <td>0.003232</td>\n",
       "      <td>0.003200</td>\n",
       "      <td>0.003006</td>\n",
       "      <td>0.002985</td>\n",
       "      <td>0.002922</td>\n",
       "      <td>0.002631</td>\n",
       "      <td>0.002610</td>\n",
       "      <td>0.002531</td>\n",
       "    </tr>\n",
       "    <tr>\n",
       "      <th>2</th>\n",
       "      <td>3.0</td>\n",
       "      <td>147.090</td>\n",
       "      <td>822.32</td>\n",
       "      <td>0.003871</td>\n",
       "      <td>0.005211</td>\n",
       "      <td>0.005834</td>\n",
       "      <td>0.006971</td>\n",
       "      <td>0.011036</td>\n",
       "      <td>0.012802</td>\n",
       "      <td>0.011083</td>\n",
       "      <td>...</td>\n",
       "      <td>0.000000</td>\n",
       "      <td>0.000000</td>\n",
       "      <td>0.000000</td>\n",
       "      <td>0.000000</td>\n",
       "      <td>0.000000</td>\n",
       "      <td>0.000000</td>\n",
       "      <td>0.000000</td>\n",
       "      <td>0.000000</td>\n",
       "      <td>0.000000</td>\n",
       "      <td>0.000000</td>\n",
       "    </tr>\n",
       "    <tr>\n",
       "      <th>3</th>\n",
       "      <td>3.0</td>\n",
       "      <td>148.730</td>\n",
       "      <td>2412.50</td>\n",
       "      <td>0.003336</td>\n",
       "      <td>0.007695</td>\n",
       "      <td>0.004139</td>\n",
       "      <td>0.005736</td>\n",
       "      <td>0.005794</td>\n",
       "      <td>0.006697</td>\n",
       "      <td>0.007721</td>\n",
       "      <td>...</td>\n",
       "      <td>0.020822</td>\n",
       "      <td>0.020115</td>\n",
       "      <td>0.019595</td>\n",
       "      <td>0.019252</td>\n",
       "      <td>0.018897</td>\n",
       "      <td>0.018177</td>\n",
       "      <td>0.018158</td>\n",
       "      <td>0.017587</td>\n",
       "      <td>0.017109</td>\n",
       "      <td>0.016648</td>\n",
       "    </tr>\n",
       "    <tr>\n",
       "      <th>4</th>\n",
       "      <td>3.0</td>\n",
       "      <td>129.700</td>\n",
       "      <td>599.95</td>\n",
       "      <td>0.005917</td>\n",
       "      <td>0.007934</td>\n",
       "      <td>0.006976</td>\n",
       "      <td>0.007695</td>\n",
       "      <td>0.008404</td>\n",
       "      <td>0.008825</td>\n",
       "      <td>0.010306</td>\n",
       "      <td>...</td>\n",
       "      <td>0.000140</td>\n",
       "      <td>0.000129</td>\n",
       "      <td>0.000117</td>\n",
       "      <td>0.000111</td>\n",
       "      <td>0.000106</td>\n",
       "      <td>0.000098</td>\n",
       "      <td>0.000093</td>\n",
       "      <td>0.000082</td>\n",
       "      <td>0.000079</td>\n",
       "      <td>0.000076</td>\n",
       "    </tr>\n",
       "  </tbody>\n",
       "</table>\n",
       "<p>5 rows × 1397 columns</p>\n",
       "</div>"
      ],
      "text/plain": [
       "   label        1        2         3         4         5         6         7  \\\n",
       "0    3.0  138.120  1606.80  0.003875  0.005880  0.005213  0.006935  0.007333   \n",
       "1    3.0   90.896  1904.30  0.004147  0.006728  0.005061  0.006879  0.007948   \n",
       "2    3.0  147.090   822.32  0.003871  0.005211  0.005834  0.006971  0.011036   \n",
       "3    3.0  148.730  2412.50  0.003336  0.007695  0.004139  0.005736  0.005794   \n",
       "4    3.0  129.700   599.95  0.005917  0.007934  0.006976  0.007695  0.008404   \n",
       "\n",
       "          8         9  ...      1387      1388      1389      1390      1391  \\\n",
       "0  0.009580  0.007380  ...  0.013994  0.013532  0.013157  0.012743  0.012613   \n",
       "1  0.009525  0.010492  ...  0.003564  0.003380  0.003232  0.003200  0.003006   \n",
       "2  0.012802  0.011083  ...  0.000000  0.000000  0.000000  0.000000  0.000000   \n",
       "3  0.006697  0.007721  ...  0.020822  0.020115  0.019595  0.019252  0.018897   \n",
       "4  0.008825  0.010306  ...  0.000140  0.000129  0.000117  0.000111  0.000106   \n",
       "\n",
       "       1392      1393      1394      1395      1396  \n",
       "0  0.012422  0.012252  0.011377  0.011198  0.011131  \n",
       "1  0.002985  0.002922  0.002631  0.002610  0.002531  \n",
       "2  0.000000  0.000000  0.000000  0.000000  0.000000  \n",
       "3  0.018177  0.018158  0.017587  0.017109  0.016648  \n",
       "4  0.000098  0.000093  0.000082  0.000079  0.000076  \n",
       "\n",
       "[5 rows x 1397 columns]"
      ]
     },
     "execution_count": 4,
     "metadata": {},
     "output_type": "execute_result"
    }
   ],
   "source": [
    "colon.head()"
   ]
  },
  {
   "cell_type": "markdown",
   "metadata": {},
   "source": [
    "Now that looks a lot tidier. Let's also change the class labels: 1 becomes 0 for benign; 2 and 3 become 1 for malignant. "
   ]
  },
  {
   "cell_type": "code",
   "execution_count": 5,
   "metadata": {},
   "outputs": [
    {
     "data": {
      "text/html": [
       "<div>\n",
       "<style scoped>\n",
       "    .dataframe tbody tr th:only-of-type {\n",
       "        vertical-align: middle;\n",
       "    }\n",
       "\n",
       "    .dataframe tbody tr th {\n",
       "        vertical-align: top;\n",
       "    }\n",
       "\n",
       "    .dataframe thead th {\n",
       "        text-align: right;\n",
       "    }\n",
       "</style>\n",
       "<table border=\"1\" class=\"dataframe\">\n",
       "  <thead>\n",
       "    <tr style=\"text-align: right;\">\n",
       "      <th></th>\n",
       "      <th>label</th>\n",
       "      <th>1</th>\n",
       "      <th>2</th>\n",
       "      <th>3</th>\n",
       "      <th>4</th>\n",
       "      <th>5</th>\n",
       "      <th>6</th>\n",
       "      <th>7</th>\n",
       "      <th>8</th>\n",
       "      <th>9</th>\n",
       "      <th>...</th>\n",
       "      <th>1387</th>\n",
       "      <th>1388</th>\n",
       "      <th>1389</th>\n",
       "      <th>1390</th>\n",
       "      <th>1391</th>\n",
       "      <th>1392</th>\n",
       "      <th>1393</th>\n",
       "      <th>1394</th>\n",
       "      <th>1395</th>\n",
       "      <th>1396</th>\n",
       "    </tr>\n",
       "  </thead>\n",
       "  <tbody>\n",
       "    <tr>\n",
       "      <th>9</th>\n",
       "      <td>1.0</td>\n",
       "      <td>127.47</td>\n",
       "      <td>1406.80</td>\n",
       "      <td>0.002802</td>\n",
       "      <td>0.004276</td>\n",
       "      <td>0.003806</td>\n",
       "      <td>0.005146</td>\n",
       "      <td>0.005410</td>\n",
       "      <td>0.006105</td>\n",
       "      <td>0.007818</td>\n",
       "      <td>...</td>\n",
       "      <td>0.003110</td>\n",
       "      <td>0.003053</td>\n",
       "      <td>0.002898</td>\n",
       "      <td>0.002774</td>\n",
       "      <td>0.002632</td>\n",
       "      <td>0.002493</td>\n",
       "      <td>0.002450</td>\n",
       "      <td>0.002312</td>\n",
       "      <td>0.002179</td>\n",
       "      <td>0.002090</td>\n",
       "    </tr>\n",
       "    <tr>\n",
       "      <th>40</th>\n",
       "      <td>0.0</td>\n",
       "      <td>140.73</td>\n",
       "      <td>711.59</td>\n",
       "      <td>0.006186</td>\n",
       "      <td>0.009827</td>\n",
       "      <td>0.006869</td>\n",
       "      <td>0.009844</td>\n",
       "      <td>0.010494</td>\n",
       "      <td>0.012854</td>\n",
       "      <td>0.012929</td>\n",
       "      <td>...</td>\n",
       "      <td>0.000002</td>\n",
       "      <td>0.000002</td>\n",
       "      <td>0.000001</td>\n",
       "      <td>0.000001</td>\n",
       "      <td>0.000001</td>\n",
       "      <td>0.000001</td>\n",
       "      <td>0.000001</td>\n",
       "      <td>0.000001</td>\n",
       "      <td>0.000001</td>\n",
       "      <td>0.000001</td>\n",
       "    </tr>\n",
       "    <tr>\n",
       "      <th>36</th>\n",
       "      <td>1.0</td>\n",
       "      <td>163.11</td>\n",
       "      <td>1385.90</td>\n",
       "      <td>0.008264</td>\n",
       "      <td>0.011529</td>\n",
       "      <td>0.006550</td>\n",
       "      <td>0.007291</td>\n",
       "      <td>0.012066</td>\n",
       "      <td>0.013678</td>\n",
       "      <td>0.015943</td>\n",
       "      <td>...</td>\n",
       "      <td>0.000050</td>\n",
       "      <td>0.000048</td>\n",
       "      <td>0.000046</td>\n",
       "      <td>0.000046</td>\n",
       "      <td>0.000044</td>\n",
       "      <td>0.000039</td>\n",
       "      <td>0.000033</td>\n",
       "      <td>0.000032</td>\n",
       "      <td>0.000030</td>\n",
       "      <td>0.000027</td>\n",
       "    </tr>\n",
       "    <tr>\n",
       "      <th>47</th>\n",
       "      <td>0.0</td>\n",
       "      <td>154.63</td>\n",
       "      <td>566.70</td>\n",
       "      <td>0.005386</td>\n",
       "      <td>0.008225</td>\n",
       "      <td>0.006184</td>\n",
       "      <td>0.008711</td>\n",
       "      <td>0.006867</td>\n",
       "      <td>0.008170</td>\n",
       "      <td>0.013066</td>\n",
       "      <td>...</td>\n",
       "      <td>0.000005</td>\n",
       "      <td>0.000005</td>\n",
       "      <td>0.000005</td>\n",
       "      <td>0.000004</td>\n",
       "      <td>0.000004</td>\n",
       "      <td>0.000004</td>\n",
       "      <td>0.000003</td>\n",
       "      <td>0.000003</td>\n",
       "      <td>0.000003</td>\n",
       "      <td>0.000003</td>\n",
       "    </tr>\n",
       "    <tr>\n",
       "      <th>22</th>\n",
       "      <td>1.0</td>\n",
       "      <td>158.80</td>\n",
       "      <td>3795.40</td>\n",
       "      <td>0.005593</td>\n",
       "      <td>0.010721</td>\n",
       "      <td>0.009279</td>\n",
       "      <td>0.011931</td>\n",
       "      <td>0.014284</td>\n",
       "      <td>0.013749</td>\n",
       "      <td>0.018370</td>\n",
       "      <td>...</td>\n",
       "      <td>0.000000</td>\n",
       "      <td>0.000000</td>\n",
       "      <td>0.000000</td>\n",
       "      <td>0.000000</td>\n",
       "      <td>0.000000</td>\n",
       "      <td>0.000000</td>\n",
       "      <td>0.000000</td>\n",
       "      <td>0.000000</td>\n",
       "      <td>0.000000</td>\n",
       "      <td>0.000000</td>\n",
       "    </tr>\n",
       "  </tbody>\n",
       "</table>\n",
       "<p>5 rows × 1397 columns</p>\n",
       "</div>"
      ],
      "text/plain": [
       "    label       1        2         3         4         5         6         7  \\\n",
       "9     1.0  127.47  1406.80  0.002802  0.004276  0.003806  0.005146  0.005410   \n",
       "40    0.0  140.73   711.59  0.006186  0.009827  0.006869  0.009844  0.010494   \n",
       "36    1.0  163.11  1385.90  0.008264  0.011529  0.006550  0.007291  0.012066   \n",
       "47    0.0  154.63   566.70  0.005386  0.008225  0.006184  0.008711  0.006867   \n",
       "22    1.0  158.80  3795.40  0.005593  0.010721  0.009279  0.011931  0.014284   \n",
       "\n",
       "           8         9  ...      1387      1388      1389      1390      1391  \\\n",
       "9   0.006105  0.007818  ...  0.003110  0.003053  0.002898  0.002774  0.002632   \n",
       "40  0.012854  0.012929  ...  0.000002  0.000002  0.000001  0.000001  0.000001   \n",
       "36  0.013678  0.015943  ...  0.000050  0.000048  0.000046  0.000046  0.000044   \n",
       "47  0.008170  0.013066  ...  0.000005  0.000005  0.000005  0.000004  0.000004   \n",
       "22  0.013749  0.018370  ...  0.000000  0.000000  0.000000  0.000000  0.000000   \n",
       "\n",
       "        1392      1393      1394      1395      1396  \n",
       "9   0.002493  0.002450  0.002312  0.002179  0.002090  \n",
       "40  0.000001  0.000001  0.000001  0.000001  0.000001  \n",
       "36  0.000039  0.000033  0.000032  0.000030  0.000027  \n",
       "47  0.000004  0.000003  0.000003  0.000003  0.000003  \n",
       "22  0.000000  0.000000  0.000000  0.000000  0.000000  \n",
       "\n",
       "[5 rows x 1397 columns]"
      ]
     },
     "execution_count": 5,
     "metadata": {},
     "output_type": "execute_result"
    }
   ],
   "source": [
    "colon.label[colon.label==1] = 0\n",
    "colon.label[(colon.label==2) | (colon.label==3)] = 1\n",
    "colon.sample(5)"
   ]
  },
  {
   "cell_type": "code",
   "execution_count": 6,
   "metadata": {},
   "outputs": [
    {
     "data": {
      "text/plain": [
       "Series([], dtype: int64)"
      ]
     },
     "execution_count": 6,
     "metadata": {},
     "output_type": "execute_result"
    }
   ],
   "source": [
    "# look for missing values\n",
    "colon.isna().sum()[colon.isna().sum()>0]"
   ]
  },
  {
   "cell_type": "code",
   "execution_count": 7,
   "metadata": {},
   "outputs": [
    {
     "data": {
      "text/plain": [
       "1.0    55\n",
       "0.0    21\n",
       "Name: label, dtype: int64"
      ]
     },
     "execution_count": 7,
     "metadata": {},
     "output_type": "execute_result"
    }
   ],
   "source": [
    "# look at class distribution\n",
    "colon.label.value_counts()"
   ]
  },
  {
   "cell_type": "markdown",
   "metadata": {},
   "source": [
    "Looks like we don't have to clean the data anymore. We should now split off our test set."
   ]
  },
  {
   "cell_type": "code",
   "execution_count": 8,
   "metadata": {},
   "outputs": [],
   "source": [
    "from sklearn.model_selection import StratifiedShuffleSplit\n",
    "# put 20%  of the data aside as a test set\n",
    "split = StratifiedShuffleSplit(n_splits=1, test_size=0.2, random_state=1234)\n",
    "for train_index, test_index in split.split(colon, colon[\"label\"]):\n",
    "    colon_train = colon.loc[train_index]\n",
    "    colon_test = colon.loc[test_index]\n",
    "    X_train = colon_train.iloc[:,1:]\n",
    "    y_train = colon_train.loc[:,\"label\"]\n",
    "    X_test = colon_test.iloc[:,1:]\n",
    "    y_test = colon_test.loc[:,\"label\"]\n"
   ]
  },
  {
   "cell_type": "markdown",
   "metadata": {},
   "source": [
    "## Selecting and tuning models\n",
    "Let's try to get a base line first by training an SVC model with all the features and no preprocessing besides standard scaling. We can than compare the performance of the lower dimensionality models with this benchmark."
   ]
  },
  {
   "cell_type": "code",
   "execution_count": 9,
   "metadata": {},
   "outputs": [
    {
     "name": "stdout",
     "output_type": "stream",
     "text": [
      "Cross validation Grid search:\n",
      "Best parameter (CV F1 score=0.880):\n",
      "{'svc__C': 0.1, 'svc__gamma': 1e-08, 'svc__kernel': 'linear'}\n",
      "\n",
      "Performance on the test set:\n",
      "\n",
      "Confusion matrix:\n",
      "[[ 4  0]\n",
      " [ 2 10]]\n",
      "F1: 0.909\n",
      "Recall: 0.833\n",
      "Precision: 1.000\n",
      "Accuracy: 0.875\n"
     ]
    }
   ],
   "source": [
    "# import all sklearn functions needed\n",
    "from sklearn.preprocessing import StandardScaler\n",
    "from sklearn.svm import SVC\n",
    "from sklearn.pipeline import Pipeline\n",
    "from sklearn.model_selection import GridSearchCV\n",
    "from sklearn.metrics import confusion_matrix\n",
    "from sklearn.metrics import precision_score\n",
    "from sklearn.metrics import recall_score\n",
    "from sklearn.metrics import accuracy_score\n",
    "from sklearn.metrics import f1_score\n",
    "\n",
    "# put a standard scaler and a support vector calssifier in a pipeline\n",
    "pipe = Pipeline(steps=[\n",
    "               (\"scaler\",StandardScaler()),\n",
    "               (\"svc\",SVC(class_weight=\"balanced\"))])\n",
    "\n",
    "# define paramter space to search durring grid search\n",
    "param_grid = {\"svc__kernel\":[\"linear\",\"rbf\"],\n",
    "              \"svc__C\":np.logspace(-6,4,5),\n",
    "              \"svc__gamma\":np.logspace(-8,1,5)}\n",
    "\n",
    "# perform grid search\n",
    "grid = GridSearchCV(pipe, param_grid=param_grid,\n",
    "                    n_jobs=-1, cv=6, scoring=\"f1\",\n",
    "                    iid=False, verbose=0)\n",
    "grid.fit(X_train,y_train)\n",
    "\n",
    "print(\"Cross validation Grid search:\")\n",
    "print(\"Best parameter (CV F1 score=%0.3f):\" % grid.best_score_)\n",
    "print(grid.best_params_)\n",
    "\n",
    "print(\"\\nPerformance on the test set:\\n\")\n",
    "print(\"Confusion matrix:\")\n",
    "y_pred = grid.predict(X_test)\n",
    "print(confusion_matrix(y_test, y_pred))\n",
    "print(\"F1: {:0.3f}\".format(f1_score(y_test, y_pred)))\n",
    "print(\"Recall: {:0.3f}\".format(recall_score(y_test, y_pred)))\n",
    "print(\"Precision: {:0.3f}\".format(precision_score(y_test, y_pred)))\n",
    "print(\"Accuracy: {:0.3f}\".format(accuracy_score(y_test, y_pred)))"
   ]
  },
  {
   "cell_type": "markdown",
   "metadata": {},
   "source": [
    "We actually perform already very well without any fancy preprocessing, already beating the human experts who's binary classification accuracy is around 0.796. But we still have a few false negatives in our test set classification which can be a severe problem for malignant tumors. If a patient is told that they're fine, the tumor may get a lot worse until they notice that the diagnosis was wrong. Maybe we can improve our benchmark results.\n",
    "\n",
    "Let's start with a simple PCA with only two PCs so that we can plot our data points "
   ]
  },
  {
   "cell_type": "code",
   "execution_count": 10,
   "metadata": {},
   "outputs": [
    {
     "name": "stdout",
     "output_type": "stream",
     "text": [
      "Variance explained by the first two PCs: 0.921\n"
     ]
    }
   ],
   "source": [
    "from sklearn.decomposition import PCA\n",
    "# do a PCA with 2 PCs\n",
    "# Note: the infput data is centred aroud 0 automatically before the PCA,\n",
    "# the whiten parameter scales the output to unit variance, so it basically acts\n",
    "# like a standard scaler\n",
    "pca = PCA(n_components=2, whiten=True)\n",
    "X_train_pca = pca.fit_transform(X_train)\n",
    "print(\"Variance explained by the first two PCs: {:0.3f}\".format(sum(pca.explained_variance_ratio_)))"
   ]
  },
  {
   "cell_type": "markdown",
   "metadata": {},
   "source": [
    "Wow! 92% of the original training data is preserved when projecting it from 1396 dimensions to only two dimensions. Lets plot it: "
   ]
  },
  {
   "cell_type": "code",
   "execution_count": 11,
   "metadata": {},
   "outputs": [
    {
     "data": {
      "image/png": "[encoded data removed]",
      "text/plain": [
       "<Figure size 432x288 with 1 Axes>"
      ]
     },
     "metadata": {
      "needs_background": "light"
     },
     "output_type": "display_data"
    }
   ],
   "source": [
    "# split instances into malignant and benign\n",
    "idx_b = np.argwhere(y_train==0).reshape(1,-1)\n",
    "idx_m = np.argwhere(y_train==1).reshape(1,-1)\n",
    "malignant = X_train_pca[idx_m].reshape(-1,2)\n",
    "benign = X_train_pca[idx_b].reshape(-1,2)\n",
    "\n",
    "# plot on a scatter plot\n",
    "plt.plot(malignant[:,0],malignant[:,1],\"^r\",label=\"malignant\",ms=8,alpha=.5)\n",
    "plt.plot(benign[:,0],benign[:,1],\".b\",label=\"benign\",ms=10,alpha=.5)\n",
    "_ = plt.legend()"
   ]
  },
  {
   "cell_type": "markdown",
   "metadata": {},
   "source": [
    "We can see that benign and malignant lesions tend to different regions of the figure but there i some significant overlap of points which would probably hard to deconvolve. Maybe we've lost too much of the original data's information and we should chose the number of PCs according to how much variance we want to preserve. We can specify that percentage instead the number of PCs."
   ]
  },
  {
   "cell_type": "code",
   "execution_count": 12,
   "metadata": {},
   "outputs": [
    {
     "name": "stdout",
     "output_type": "stream",
     "text": [
      "Preserving 0.95 variance requires 3 PCs.\n"
     ]
    }
   ],
   "source": [
    "# do a PCA preserving 0.95 of the original data's variance\n",
    "var = 0.95\n",
    "pca = PCA(n_components=var)\n",
    "X_train_pca = pca.fit_transform(X_train)\n",
    "n_comp = len(pca.components_)\n",
    "print(\"Preserving {} variance requires {} PCs.\".format(var,n_comp))"
   ]
  },
  {
   "cell_type": "code",
   "execution_count": 13,
   "metadata": {},
   "outputs": [
    {
     "name": "stdout",
     "output_type": "stream",
     "text": [
      "Preserving 0.99 variance requires 6 PCs.\n"
     ]
    }
   ],
   "source": [
    "# do a PCA preserving 0.99 of the original data's variance\n",
    "var = 0.99\n",
    "pca = PCA(n_components=var)\n",
    "X_train_pca = pca.fit_transform(X_train)\n",
    "n_comp = len(pca.components_)\n",
    "print(\"Preserving {} variance requires {} PCs.\".format(var,n_comp))"
   ]
  },
  {
   "cell_type": "code",
   "execution_count": 14,
   "metadata": {},
   "outputs": [
    {
     "name": "stdout",
     "output_type": "stream",
     "text": [
      "Preserving 0.999 variance requires 11 PCs.\n"
     ]
    }
   ],
   "source": [
    "# do a PCA preserving 0.999 of the original data's variance\n",
    "var = 0.999\n",
    "pca = PCA(n_components=var)\n",
    "X_train_pca = pca.fit_transform(X_train)\n",
    "n_comp = len(pca.components_)\n",
    "print(\"Preserving {} variance requires {} PCs.\".format(var,n_comp))"
   ]
  },
  {
   "cell_type": "markdown",
   "metadata": {},
   "source": [
    "The amount of preserved variance can be used as a hyper-parameter in a grid search."
   ]
  },
  {
   "cell_type": "code",
   "execution_count": 15,
   "metadata": {},
   "outputs": [
    {
     "name": "stdout",
     "output_type": "stream",
     "text": [
      "Cross validation Grid search:\n",
      "Best parameter (CV F1 score=0.916):\n",
      "{'pca__n_components': 0.999, 'svc__C': 3162.2776601683795}\n",
      "\n",
      "Performance on the test set:\n",
      "\n",
      "Confusion matrix:\n",
      "[[ 4  0]\n",
      " [ 2 10]]\n",
      "F1: 0.909\n",
      "Recall: 0.833\n",
      "Precision: 1.000\n",
      "Accuracy: 0.875\n"
     ]
    }
   ],
   "source": [
    "# put a standard-scaled PCA and a support vector calssifier in a pipeline\n",
    "pipe = Pipeline(steps=[\n",
    "               (\"pca\",PCA(whiten=True)),\n",
    "               (\"svc\",SVC(kernel=\"linear\",class_weight=\"balanced\"))])\n",
    "\n",
    "# define paramter space to search durring grid search\n",
    "param_grid = {\"svc__C\":np.logspace(-4,6,5),\n",
    "              \"pca__n_components\":[0.95,0.99,0.999]}\n",
    "\n",
    "# perform grid search\n",
    "grid = GridSearchCV(pipe, param_grid=param_grid,\n",
    "                    n_jobs=-1, cv=6, scoring=\"f1\",\n",
    "                    iid=False, verbose=0)\n",
    "grid.fit(X_train,y_train)\n",
    "\n",
    "print(\"Cross validation Grid search:\")\n",
    "print(\"Best parameter (CV F1 score=%0.3f):\" % grid.best_score_)\n",
    "print(grid.best_params_)\n",
    "\n",
    "print(\"\\nPerformance on the test set:\\n\")\n",
    "print(\"Confusion matrix:\")\n",
    "y_pred = grid.predict(X_test)\n",
    "print(confusion_matrix(y_test, y_pred))\n",
    "print(\"F1: {:0.3f}\".format(f1_score(y_test, y_pred)))\n",
    "print(\"Recall: {:0.3f}\".format(recall_score(y_test, y_pred)))\n",
    "print(\"Precision: {:0.3f}\".format(precision_score(y_test, y_pred)))\n",
    "print(\"Accuracy: {:0.3f}\".format(accuracy_score(y_test, y_pred)))"
   ]
  },
  {
   "cell_type": "markdown",
   "metadata": {},
   "source": [
    "The cross-validation score was slightly improved, but in our test set there are still two instances misclassified. There is a version of kernel PCA (which basically employs the kernel trick like support vector machines) which allows it to perform nonlinear projections for dimensionality reduction. Let's see if we can improve our results with kernel PCA. Unfortunately we can not directly specify the amount of variance we want to preserve, so we'll have to calculate manually how many components will be needed for a certain desired preserved variance given a certain kernel (e.g. linear, rbf, polynomial, cosine, using default parameters)."
   ]
  },
  {
   "cell_type": "code",
   "execution_count": 16,
   "metadata": {},
   "outputs": [
    {
     "name": "stdout",
     "output_type": "stream",
     "text": [
      "For kPCA with linear kernel:\n",
      "Preserving 0.95 variance requires 3 PCs.\n",
      "Preserving 0.99 variance requires 6 PCs.\n",
      "Preserving 0.999 variance requires 11 PCs.\n"
     ]
    }
   ],
   "source": [
    "from sklearn.decomposition import KernelPCA\n",
    "\n",
    "# set up a kPCA with linear kernel and calculate all PCs\n",
    "kpca = KernelPCA(kernel=\"linear\")\n",
    "X_train_kpca = kpca.fit_transform(X_train)\n",
    "# calculate the explained variance\n",
    "explained_variance = np.var(X_train_kpca, axis=0)\n",
    "explained_variance_ratio = explained_variance / np.sum(explained_variance)\n",
    "cumsum = np.cumsum(explained_variance_ratio)\n",
    "# print results\n",
    "print(\"For kPCA with linear kernel:\")\n",
    "for v in [0.95,0.99,0.999]:\n",
    "    for i,c in enumerate(cumsum):\n",
    "        if c>v:\n",
    "            print(\"Preserving {} variance requires {} PCs.\".format(v,i+1))\n",
    "            break"
   ]
  },
  {
   "cell_type": "code",
   "execution_count": 17,
   "metadata": {},
   "outputs": [
    {
     "name": "stdout",
     "output_type": "stream",
     "text": [
      "For kPCA with rbf kernel:\n",
      "Preserving 0.95 variance requires 57 PCs.\n",
      "Preserving 0.99 variance requires 59 PCs.\n",
      "Preserving 0.999 variance requires 59 PCs.\n"
     ]
    }
   ],
   "source": [
    "# set up a kPCA with rbf kernel and calculate all PCs\n",
    "kpca = KernelPCA(kernel=\"rbf\")\n",
    "X_train_kpca = kpca.fit_transform(X_train)\n",
    "# calculate the explained variance\n",
    "explained_variance = np.var(X_train_kpca, axis=0)\n",
    "explained_variance_ratio = explained_variance / np.sum(explained_variance)\n",
    "cumsum = np.cumsum(explained_variance_ratio)\n",
    "# print results\n",
    "print(\"For kPCA with rbf kernel:\")\n",
    "for v in [0.95,0.99,0.999]:\n",
    "    for i,c in enumerate(cumsum):\n",
    "        if c>v:\n",
    "            print(\"Preserving {} variance requires {} PCs.\".format(v,i+1))\n",
    "            break"
   ]
  },
  {
   "cell_type": "code",
   "execution_count": 18,
   "metadata": {},
   "outputs": [
    {
     "name": "stdout",
     "output_type": "stream",
     "text": [
      "For kPCA with polynomial kernel:\n",
      "Preserving 0.95 variance requires 1 PCs.\n",
      "Preserving 0.99 variance requires 2 PCs.\n",
      "Preserving 0.999 variance requires 4 PCs.\n"
     ]
    }
   ],
   "source": [
    "# set up a kPCA with polynomial kernel and calculate all PCs\n",
    "kpca = KernelPCA(kernel=\"poly\")\n",
    "X_train_kpca = kpca.fit_transform(X_train)\n",
    "# calculate the explained variance\n",
    "explained_variance = np.var(X_train_kpca, axis=0)\n",
    "explained_variance_ratio = explained_variance / np.sum(explained_variance)\n",
    "cumsum = np.cumsum(explained_variance_ratio)\n",
    "# print results\n",
    "print(\"For kPCA with polynomial kernel:\")\n",
    "for v in [0.95,0.99,0.999]:\n",
    "    for i,c in enumerate(cumsum):\n",
    "        if c>v:\n",
    "            print(\"Preserving {} variance requires {} PCs.\".format(v,i+1))\n",
    "            break"
   ]
  },
  {
   "cell_type": "code",
   "execution_count": 19,
   "metadata": {},
   "outputs": [
    {
     "name": "stdout",
     "output_type": "stream",
     "text": [
      "For kPCA with cosine kernel:\n",
      "Preserving 0.95 variance requires 8 PCs.\n",
      "Preserving 0.99 variance requires 12 PCs.\n",
      "Preserving 0.999 variance requires 18 PCs.\n"
     ]
    }
   ],
   "source": [
    "# set up a kPCA with cosine kernel and calculate all PCs\n",
    "kpca = KernelPCA(kernel=\"cosine\")\n",
    "X_train_kpca = kpca.fit_transform(X_train)\n",
    "# calculate the explained variance\n",
    "explained_variance = np.var(X_train_kpca, axis=0)\n",
    "explained_variance_ratio = explained_variance / np.sum(explained_variance)\n",
    "cumsum = np.cumsum(explained_variance_ratio)\n",
    "# print results\n",
    "print(\"For kPCA with cosine kernel:\")\n",
    "for v in [0.95,0.99,0.999]:\n",
    "    for i,c in enumerate(cumsum):\n",
    "        if c>v:\n",
    "            print(\"Preserving {} variance requires {} PCs.\".format(v,i+1))\n",
    "            break"
   ]
  },
  {
   "cell_type": "markdown",
   "metadata": {},
   "source": [
    "If we want to use both the kernel type and the preserved variance level in hyper-parameter tuning, we should write our own transformer class which handles that easily."
   ]
  },
  {
   "cell_type": "code",
   "execution_count": 20,
   "metadata": {},
   "outputs": [],
   "source": [
    "from sklearn.base import BaseEstimator, TransformerMixin\n",
    "\n",
    "class kPCA(BaseEstimator, TransformerMixin):\n",
    "    \"\"\"This class allows to tune kernel-type and variance-to-preserve as hyper-paramters\"\"\"\n",
    "    \n",
    "    pc_dict = {\"linear\":{0.95:3,0.99:6,0.999:11},\n",
    "               \"rbf\":{0.95:57,0.99:59,0.999:59},\n",
    "               \"poly\":{0.95:1,0.99:2,0.999:4},\n",
    "               \"cosine\":{0.95:8,0.99:12,0.999:18}}\n",
    "    \n",
    "    def __init__(self, kernel=\"linear\", var=0.95):\n",
    "        self.kernel = kernel\n",
    "        self.var = var\n",
    "        self.kpca = KernelPCA(kernel=self.kernel,\n",
    "                              n_components=self.pc_dict[kernel][var])\n",
    "        \n",
    "    def fit(self, X, y=None):\n",
    "        self.kpca.fit(X)\n",
    "        return self\n",
    "    \n",
    "    def transform(self, X, y=None):\n",
    "        return self.kpca.transform(X)"
   ]
  },
  {
   "cell_type": "markdown",
   "metadata": {},
   "source": [
    "Let's see if we can up our performance in a final grid search with different kernel PCAs."
   ]
  },
  {
   "cell_type": "code",
   "execution_count": 23,
   "metadata": {},
   "outputs": [
    {
     "name": "stdout",
     "output_type": "stream",
     "text": [
      "Cross validation Grid search:\n",
      "Best parameter (CV F1 score=0.870):\n",
      "{'kpca__kernel': 'linear', 'kpca__var': 0.95, 'svc__C': 100.0}\n",
      "\n",
      "Performance on the test set:\n",
      "\n",
      "Confusion matrix:\n",
      "[[ 4  0]\n",
      " [ 2 10]]\n",
      "F1: 0.909\n",
      "Recall: 0.833\n",
      "Precision: 1.000\n",
      "Accuracy: 0.875\n"
     ]
    }
   ],
   "source": [
    "# put the custom kPCA, a standard scaler, and a support vector calssifier in a pipeline\n",
    "pipe = Pipeline(steps=[\n",
    "               (\"kpca\",kPCA()),\n",
    "               (\"scaler\", StandardScaler()),\n",
    "               (\"svc\",SVC(kernel=\"linear\",class_weight=\"balanced\"))])\n",
    "\n",
    "# define paramter space to search durring grid search\n",
    "param_grid = {\"kpca__kernel\":[\"linear\",\"rbf\",\"poly\",\"cosine\"],\n",
    "              \"kpca__var\":[0.95,0.99,0.999],\n",
    "              \"svc__C\":np.logspace(-6,6,4)}\n",
    "\n",
    "# perform grid search\n",
    "grid = GridSearchCV(pipe, param_grid=param_grid,\n",
    "                    n_jobs=-1, cv=6, scoring=\"f1\",\n",
    "                    iid=False, verbose=0)\n",
    "grid.fit(X_train,y_train)\n",
    "\n",
    "print(\"Cross validation Grid search:\")\n",
    "print(\"Best parameter (CV F1 score=%0.3f):\" % grid.best_score_)\n",
    "print(grid.best_params_)\n",
    "\n",
    "print(\"\\nPerformance on the test set:\\n\")\n",
    "print(\"Confusion matrix:\")\n",
    "y_pred = grid.predict(X_test)\n",
    "print(confusion_matrix(y_test, y_pred))\n",
    "print(\"F1: {:0.3f}\".format(f1_score(y_test, y_pred)))\n",
    "print(\"Recall: {:0.3f}\".format(recall_score(y_test, y_pred)))\n",
    "print(\"Precision: {:0.3f}\".format(precision_score(y_test, y_pred)))\n",
    "print(\"Accuracy: {:0.3f}\".format(accuracy_score(y_test, y_pred)))"
   ]
  },
  {
   "cell_type": "markdown",
   "metadata": {},
   "source": [
    "Well, looks like we weren't really able to achieve much of an improvement by dimensionality reduction but we also didn't make it worse. That means that the information that is in the data was as easy to grasp for the algorithm in higher dimensional space as in dimensionality reduced space. We do gain one big advantage through dimensionality reduction though: Significantly less computational cost! For this example with only 76 instances this may not seem relevant, but for much larger data sets it will be a massive speed-up if we can reduce the number of features from hundreds to only about a dozen without sacrificing too much classification accuracy (or what ever score we use).\n",
    "\n",
    "Thanks a lot for following along through this example!"
   ]
  }
 ],
 "metadata": {
  "kernelspec": {
   "display_name": "Python 3",
   "language": "python",
   "name": "python3"
  },
  "language_info": {
   "codemirror_mode": {
    "name": "ipython",
    "version": 3
   },
   "file_extension": ".py",
   "mimetype": "text/x-python",
   "name": "python",
   "nbconvert_exporter": "python",
   "pygments_lexer": "ipython3",
   "version": "3.7.3"
  }
 },
 "nbformat": 4,
 "nbformat_minor": 2
}
